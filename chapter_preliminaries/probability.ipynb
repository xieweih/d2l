{
  "cells": [
    {
      "cell_type": "markdown",
      "id": "37e258a2",
      "metadata": {
        "id": "37e258a2"
      },
      "source": [
        "The following additional libraries are needed to run this\n",
        "notebook. Note that running on Colab is experimental, please report a Github\n",
        "issue if you have any problem."
      ]
    },
    {
      "cell_type": "code",
      "execution_count": null,
      "id": "dc1d09c8",
      "metadata": {
        "id": "dc1d09c8"
      },
      "outputs": [],
      "source": [
        "!pip install git+https://github.com/d2l-ai/d2l-zh@release  # installing d2l\n"
      ]
    },
    {
      "cell_type": "markdown",
      "id": "53d03399",
      "metadata": {
        "origin_pos": 0,
        "id": "53d03399"
      },
      "source": [
        "# 概率\n",
        ":label:`sec_prob`\n",
        "\n",
        "简单地说，机器学习就是做出预测。\n",
        "\n",
        "根据病人的临床病史，我们可能想预测他们在下一年心脏病发作的*概率*。\n",
        "在飞机喷气发动机的异常检测中，我们想要评估一组发动机读数为正常运行情况的概率有多大。\n",
        "在强化学习中，我们希望智能体（agent）能在一个环境中智能地行动。\n",
        "这意味着我们需要考虑在每种可行的行为下获得高奖励的概率。\n",
        "当我们建立推荐系统时，我们也需要考虑概率。\n",
        "例如，假设我们为一家大型在线书店工作，我们可能希望估计某些用户购买特定图书的概率。\n",
        "为此，我们需要使用概率学。\n",
        "有完整的课程、专业、论文、职业、甚至院系，都致力于概率学的工作。\n",
        "所以很自然地，我们在这部分的目标不是教授整个科目。\n",
        "相反，我们希望教给读者基础的概率知识，使读者能够开始构建第一个深度学习模型，\n",
        "以便读者可以开始自己探索它。\n",
        "\n",
        "现在让我们更认真地考虑第一个例子：根据照片区分猫和狗。\n",
        "这听起来可能很简单，但对于机器却可能是一个艰巨的挑战。\n",
        "首先，问题的难度可能取决于图像的分辨率。\n",
        "\n",
        "![不同分辨率的图像 ($10 \\times 10$, $20 \\times 20$, $40 \\times 40$, $80 \\times 80$, 和 $160 \\times 160$ pixels)](https://github.com/d2l-ai/d2l-zh-pytorch-colab/blob/master/img/cat-dog-pixels.png?raw=1)\n",
        ":width:`300px`\n",
        ":label:`fig_cat_dog`\n",
        "\n",
        "如 :numref:`fig_cat_dog`所示，虽然人类很容易以$160 \\times 160$像素的分辨率识别猫和狗，\n",
        "但它在$40\\times40$像素上变得具有挑战性，而且在$10 \\times 10$像素下几乎是不可能的。\n",
        "换句话说，我们在很远的距离（从而降低分辨率）区分猫和狗的能力可能会变为猜测。\n",
        "概率给了我们一种正式的途径来说明我们的确定性水平。\n",
        "如果我们完全肯定图像是一只猫，我们说标签$y$是\"猫\"的*概率*，表示为$P(y=$\"猫\"$)$等于$1$。\n",
        "如果我们没有证据表明$y=$“猫”或$y=$“狗”，那么我们可以说这两种可能性是相等的，\n",
        "即$P(y=$\"猫\"$)=P(y=$\"狗\"$)=0.5$。\n",
        "如果我们不十分确定图像描绘的是一只猫，我们可以将概率赋值为$0.5<P(y=$\"猫\"$)<1$。\n",
        "\n",
        "现在考虑第二个例子：给出一些天气监测数据，我们想预测明天北京下雨的概率。\n",
        "如果是夏天，下雨的概率是0.5。\n",
        "\n",
        "在这两种情况下，我们都不确定结果，但这两种情况之间有一个关键区别。\n",
        "在第一种情况中，图像实际上是狗或猫二选一。\n",
        "在第二种情况下，结果实际上是一个随机的事件。\n",
        "因此，概率是一种灵活的语言，用于说明我们的确定程度，并且它可以有效地应用于广泛的领域中。\n",
        "\n",
        "## 基本概率论\n",
        "\n",
        "假设我们掷骰子，想知道看到1的几率有多大，而不是看到另一个数字。\n",
        "如果骰子是公平的，那么所有六个结果$\\{1, \\ldots, 6\\}$都有相同的可能发生，\n",
        "因此我们可以说$1$发生的概率为$\\frac{1}{6}$。\n",
        "\n",
        "然而现实生活中，对于我们从工厂收到的真实骰子，我们需要检查它是否有瑕疵。\n",
        "检查骰子的唯一方法是多次投掷并记录结果。\n",
        "对于每个骰子，我们将观察到$\\{1, \\ldots, 6\\}$中的一个值。\n",
        "对于每个值，一种自然的方法是将它出现的次数除以投掷的总次数，\n",
        "即此*事件*（event）概率的*估计值*。\n",
        "*大数定律*（law of large numbers）告诉我们：\n",
        "随着投掷次数的增加，这个估计值会越来越接近真实的潜在概率。\n",
        "让我们用代码试一试！\n",
        "\n",
        "首先，我们导入必要的软件包。\n"
      ]
    },
    {
      "cell_type": "code",
      "execution_count": 23,
      "id": "fffe28f9",
      "metadata": {
        "execution": {
          "iopub.execute_input": "2023-08-18T07:03:52.138045Z",
          "iopub.status.busy": "2023-08-18T07:03:52.137333Z",
          "iopub.status.idle": "2023-08-18T07:03:55.099774Z",
          "shell.execute_reply": "2023-08-18T07:03:55.098743Z"
        },
        "origin_pos": 2,
        "tab": [
          "pytorch"
        ],
        "id": "fffe28f9"
      },
      "outputs": [],
      "source": [
        "%matplotlib inline\n",
        "import torch\n",
        "from torch.distributions import multinomial\n",
        "from matplotlib_inline import backend_inline\n",
        "from matplotlib import pyplot as plt\n",
        "\n",
        "def use_svg_display():\n",
        "    \"\"\"使用svg格式在Jupyter中显示绘图\"\"\"\n",
        "    backend_inline.set_matplotlib_formats('svg')\n",
        "\n",
        "def set_figsize(figsize=(3.5, 2.5)):\n",
        "    \"\"\"设置matplotlib的图表大小\"\"\"\n",
        "    use_svg_display()\n",
        "    plt.rcParams['figure.figsize'] = figsize"
      ]
    },
    {
      "cell_type": "markdown",
      "id": "e8bfc741",
      "metadata": {
        "origin_pos": 5,
        "id": "e8bfc741"
      },
      "source": [
        "在统计学中，我们把从概率分布中抽取样本的过程称为*抽样*（sampling）。\n",
        "笼统来说，可以把*分布*（distribution）看作对事件的概率分配，\n",
        "稍后我们将给出的更正式定义。\n",
        "将概率分配给一些离散选择的分布称为*多项分布*（multinomial distribution）。\n",
        "\n",
        "为了抽取一个样本，即掷骰子，我们只需传入一个概率向量。\n",
        "输出是另一个相同长度的向量：它在索引$i$处的值是采样结果中$i$出现的次数。\n"
      ]
    },
    {
      "cell_type": "code",
      "execution_count": 19,
      "id": "5e03f32a",
      "metadata": {
        "execution": {
          "iopub.execute_input": "2023-08-18T07:03:55.105250Z",
          "iopub.status.busy": "2023-08-18T07:03:55.104342Z",
          "iopub.status.idle": "2023-08-18T07:03:55.117395Z",
          "shell.execute_reply": "2023-08-18T07:03:55.116406Z"
        },
        "origin_pos": 7,
        "tab": [
          "pytorch"
        ],
        "colab": {
          "base_uri": "https://localhost:8080/"
        },
        "id": "5e03f32a",
        "outputId": "abcaf35a-881d-4173-c6c3-711ac0fe6626"
      },
      "outputs": [
        {
          "output_type": "stream",
          "name": "stdout",
          "text": [
            "tensor([0.1667, 0.1667, 0.1667, 0.1667, 0.1667, 0.1667])\n"
          ]
        },
        {
          "output_type": "execute_result",
          "data": {
            "text/plain": [
              "tensor([0., 0., 0., 0., 0., 1.])"
            ]
          },
          "metadata": {},
          "execution_count": 19
        }
      ],
      "source": [
        "fair_probs = torch.ones([6]) / 6\n",
        "print(fair_probs)\n",
        "multinomial.Multinomial(1, fair_probs).sample()"
      ]
    },
    {
      "cell_type": "markdown",
      "id": "076723aa",
      "metadata": {
        "origin_pos": 10,
        "id": "076723aa"
      },
      "source": [
        "在估计一个骰子的公平性时，我们希望从同一分布中生成多个样本。\n",
        "如果用Python的for循环来完成这个任务，速度会慢得惊人。\n",
        "因此我们使用深度学习框架的函数同时抽取多个样本，得到我们想要的任意形状的独立样本数组。\n"
      ]
    },
    {
      "cell_type": "code",
      "execution_count": 20,
      "id": "aef6c2b1",
      "metadata": {
        "execution": {
          "iopub.execute_input": "2023-08-18T07:03:55.121792Z",
          "iopub.status.busy": "2023-08-18T07:03:55.121330Z",
          "iopub.status.idle": "2023-08-18T07:03:55.128618Z",
          "shell.execute_reply": "2023-08-18T07:03:55.127639Z"
        },
        "origin_pos": 12,
        "tab": [
          "pytorch"
        ],
        "colab": {
          "base_uri": "https://localhost:8080/"
        },
        "id": "aef6c2b1",
        "outputId": "6b8eb557-5731-49d6-f707-7c610a2528db"
      },
      "outputs": [
        {
          "output_type": "execute_result",
          "data": {
            "text/plain": [
              "tensor([1., 1., 0., 2., 4., 2.])"
            ]
          },
          "metadata": {},
          "execution_count": 20
        }
      ],
      "source": [
        "multinomial.Multinomial(10, fair_probs).sample()"
      ]
    },
    {
      "cell_type": "markdown",
      "id": "cb561790",
      "metadata": {
        "origin_pos": 15,
        "id": "cb561790"
      },
      "source": [
        "现在我们知道如何对骰子进行采样，我们可以模拟1000次投掷。\n",
        "然后，我们可以统计1000次投掷后，每个数字被投中了多少次。\n",
        "具体来说，我们计算相对频率，以作为真实概率的估计。\n"
      ]
    },
    {
      "cell_type": "code",
      "execution_count": 21,
      "id": "22aadbd3",
      "metadata": {
        "execution": {
          "iopub.execute_input": "2023-08-18T07:03:55.132265Z",
          "iopub.status.busy": "2023-08-18T07:03:55.131761Z",
          "iopub.status.idle": "2023-08-18T07:03:55.139359Z",
          "shell.execute_reply": "2023-08-18T07:03:55.138380Z"
        },
        "origin_pos": 17,
        "tab": [
          "pytorch"
        ],
        "colab": {
          "base_uri": "https://localhost:8080/"
        },
        "id": "22aadbd3",
        "outputId": "3b4a8f37-b262-4cf5-d78f-0579885b037b"
      },
      "outputs": [
        {
          "output_type": "execute_result",
          "data": {
            "text/plain": [
              "tensor([0.1490, 0.2020, 0.1400, 0.1430, 0.1800, 0.1860])"
            ]
          },
          "metadata": {},
          "execution_count": 21
        }
      ],
      "source": [
        "# 将结果存储为32位浮点数以进行除法\n",
        "counts = multinomial.Multinomial(1000, fair_probs).sample()\n",
        "counts / 1000  # 相对频率作为估计值"
      ]
    },
    {
      "cell_type": "markdown",
      "id": "af0608f2",
      "metadata": {
        "origin_pos": 20,
        "id": "af0608f2"
      },
      "source": [
        "因为我们是从一个公平的骰子中生成的数据，我们知道每个结果都有真实的概率$\\frac{1}{6}$，\n",
        "大约是$0.167$，所以上面输出的估计值看起来不错。\n",
        "\n",
        "我们也可以看到这些概率如何随着时间的推移收敛到真实概率。\n",
        "让我们进行500组实验，每组抽取10个样本。\n"
      ]
    },
    {
      "cell_type": "code",
      "execution_count": 38,
      "id": "ebe14d68",
      "metadata": {
        "execution": {
          "iopub.execute_input": "2023-08-18T07:03:55.143254Z",
          "iopub.status.busy": "2023-08-18T07:03:55.142607Z",
          "iopub.status.idle": "2023-08-18T07:03:55.387633Z",
          "shell.execute_reply": "2023-08-18T07:03:55.386483Z"
        },
        "origin_pos": 22,
        "tab": [
          "pytorch"
        ],
        "colab": {
          "base_uri": "https://localhost:8080/",
          "height": 541
        },
        "id": "ebe14d68",
        "outputId": "5383adea-c041-461a-bf19-8aba2e674679"
      },
      "outputs": [
        {
          "output_type": "stream",
          "name": "stdout",
          "text": [
            "tensor([[1., 1., 4., 2., 1., 1.],\n",
            "        [2., 1., 2., 3., 1., 1.],\n",
            "        [3., 1., 3., 1., 0., 2.],\n",
            "        ...,\n",
            "        [3., 1., 3., 2., 1., 0.],\n",
            "        [2., 1., 1., 1., 3., 2.],\n",
            "        [1., 0., 1., 4., 2., 2.]])\n"
          ]
        },
        {
          "output_type": "display_data",
          "data": {
            "text/plain": [
              "<Figure size 600x450 with 1 Axes>"
            ],
            "image/svg+xml": "<?xml version=\"1.0\" encoding=\"utf-8\" standalone=\"no\"?>\n<!DOCTYPE svg PUBLIC \"-//W3C//DTD SVG 1.1//EN\"\n  \"http://www.w3.org/Graphics/SVG/1.1/DTD/svg11.dtd\">\n<svg xmlns:xlink=\"http://www.w3.org/1999/xlink\" width=\"392.14375pt\" height=\"294.23625pt\" viewBox=\"0 0 392.14375 294.23625\" xmlns=\"http://www.w3.org/2000/svg\" version=\"1.1\">\n <metadata>\n  <rdf:RDF xmlns:dc=\"http://purl.org/dc/elements/1.1/\" xmlns:cc=\"http://creativecommons.org/ns#\" xmlns:rdf=\"http://www.w3.org/1999/02/22-rdf-syntax-ns#\">\n   <cc:Work>\n    <dc:type rdf:resource=\"http://purl.org/dc/dcmitype/StillImage\"/>\n    <dc:date>2025-03-26T02:23:35.788601</dc:date>\n    <dc:format>image/svg+xml</dc:format>\n    <dc:creator>\n     <cc:Agent>\n      <dc:title>Matplotlib v3.10.0, https://matplotlib.org/</dc:title>\n     </cc:Agent>\n    </dc:creator>\n   </cc:Work>\n  </rdf:RDF>\n </metadata>\n <defs>\n  <style type=\"text/css\">*{stroke-linejoin: round; stroke-linecap: butt}</style>\n </defs>\n <g id=\"figure_1\">\n  <g id=\"patch_1\">\n   <path d=\"M 0 294.23625 \nL 392.14375 294.23625 \nL 392.14375 0 \nL 0 0 \nz\n\" style=\"fill: #ffffff\"/>\n  </g>\n  <g id=\"axes_1\">\n   <g id=\"patch_2\">\n    <path d=\"M 50.14375 256.68 \nL 384.94375 256.68 \nL 384.94375 7.2 \nL 50.14375 7.2 \nz\n\" style=\"fill: #ffffff\"/>\n   </g>\n   <g id=\"matplotlib.axis_1\">\n    <g id=\"xtick_1\">\n     <g id=\"line2d_1\">\n      <defs>\n       <path id=\"m9e2946c6dc\" d=\"M 0 0 \nL 0 3.5 \n\" style=\"stroke: #000000; stroke-width: 0.8\"/>\n      </defs>\n      <g>\n       <use xlink:href=\"#m9e2946c6dc\" x=\"65.361932\" y=\"256.68\" style=\"stroke: #000000; stroke-width: 0.8\"/>\n      </g>\n     </g>\n     <g id=\"text_1\">\n      <!-- 0 -->\n      <g transform=\"translate(62.180682 271.278437) scale(0.1 -0.1)\">\n       <defs>\n        <path id=\"DejaVuSans-30\" d=\"M 2034 4250 \nQ 1547 4250 1301 3770 \nQ 1056 3291 1056 2328 \nQ 1056 1369 1301 889 \nQ 1547 409 2034 409 \nQ 2525 409 2770 889 \nQ 3016 1369 3016 2328 \nQ 3016 3291 2770 3770 \nQ 2525 4250 2034 4250 \nz\nM 2034 4750 \nQ 2819 4750 3233 4129 \nQ 3647 3509 3647 2328 \nQ 3647 1150 3233 529 \nQ 2819 -91 2034 -91 \nQ 1250 -91 836 529 \nQ 422 1150 422 2328 \nQ 422 3509 836 4129 \nQ 1250 4750 2034 4750 \nz\n\" transform=\"scale(0.015625)\"/>\n       </defs>\n       <use xlink:href=\"#DejaVuSans-30\"/>\n      </g>\n     </g>\n    </g>\n    <g id=\"xtick_2\">\n     <g id=\"line2d_2\">\n      <g>\n       <use xlink:href=\"#m9e2946c6dc\" x=\"126.356649\" y=\"256.68\" style=\"stroke: #000000; stroke-width: 0.8\"/>\n      </g>\n     </g>\n     <g id=\"text_2\">\n      <!-- 100 -->\n      <g transform=\"translate(116.812899 271.278437) scale(0.1 -0.1)\">\n       <defs>\n        <path id=\"DejaVuSans-31\" d=\"M 794 531 \nL 1825 531 \nL 1825 4091 \nL 703 3866 \nL 703 4441 \nL 1819 4666 \nL 2450 4666 \nL 2450 531 \nL 3481 531 \nL 3481 0 \nL 794 0 \nL 794 531 \nz\n\" transform=\"scale(0.015625)\"/>\n       </defs>\n       <use xlink:href=\"#DejaVuSans-31\"/>\n       <use xlink:href=\"#DejaVuSans-30\" transform=\"translate(63.623047 0)\"/>\n       <use xlink:href=\"#DejaVuSans-30\" transform=\"translate(127.246094 0)\"/>\n      </g>\n     </g>\n    </g>\n    <g id=\"xtick_3\">\n     <g id=\"line2d_3\">\n      <g>\n       <use xlink:href=\"#m9e2946c6dc\" x=\"187.351365\" y=\"256.68\" style=\"stroke: #000000; stroke-width: 0.8\"/>\n      </g>\n     </g>\n     <g id=\"text_3\">\n      <!-- 200 -->\n      <g transform=\"translate(177.807615 271.278437) scale(0.1 -0.1)\">\n       <defs>\n        <path id=\"DejaVuSans-32\" d=\"M 1228 531 \nL 3431 531 \nL 3431 0 \nL 469 0 \nL 469 531 \nQ 828 903 1448 1529 \nQ 2069 2156 2228 2338 \nQ 2531 2678 2651 2914 \nQ 2772 3150 2772 3378 \nQ 2772 3750 2511 3984 \nQ 2250 4219 1831 4219 \nQ 1534 4219 1204 4116 \nQ 875 4013 500 3803 \nL 500 4441 \nQ 881 4594 1212 4672 \nQ 1544 4750 1819 4750 \nQ 2544 4750 2975 4387 \nQ 3406 4025 3406 3419 \nQ 3406 3131 3298 2873 \nQ 3191 2616 2906 2266 \nQ 2828 2175 2409 1742 \nQ 1991 1309 1228 531 \nz\n\" transform=\"scale(0.015625)\"/>\n       </defs>\n       <use xlink:href=\"#DejaVuSans-32\"/>\n       <use xlink:href=\"#DejaVuSans-30\" transform=\"translate(63.623047 0)\"/>\n       <use xlink:href=\"#DejaVuSans-30\" transform=\"translate(127.246094 0)\"/>\n      </g>\n     </g>\n    </g>\n    <g id=\"xtick_4\">\n     <g id=\"line2d_4\">\n      <g>\n       <use xlink:href=\"#m9e2946c6dc\" x=\"248.346082\" y=\"256.68\" style=\"stroke: #000000; stroke-width: 0.8\"/>\n      </g>\n     </g>\n     <g id=\"text_4\">\n      <!-- 300 -->\n      <g transform=\"translate(238.802332 271.278437) scale(0.1 -0.1)\">\n       <defs>\n        <path id=\"DejaVuSans-33\" d=\"M 2597 2516 \nQ 3050 2419 3304 2112 \nQ 3559 1806 3559 1356 \nQ 3559 666 3084 287 \nQ 2609 -91 1734 -91 \nQ 1441 -91 1130 -33 \nQ 819 25 488 141 \nL 488 750 \nQ 750 597 1062 519 \nQ 1375 441 1716 441 \nQ 2309 441 2620 675 \nQ 2931 909 2931 1356 \nQ 2931 1769 2642 2001 \nQ 2353 2234 1838 2234 \nL 1294 2234 \nL 1294 2753 \nL 1863 2753 \nQ 2328 2753 2575 2939 \nQ 2822 3125 2822 3475 \nQ 2822 3834 2567 4026 \nQ 2313 4219 1838 4219 \nQ 1578 4219 1281 4162 \nQ 984 4106 628 3988 \nL 628 4550 \nQ 988 4650 1302 4700 \nQ 1616 4750 1894 4750 \nQ 2613 4750 3031 4423 \nQ 3450 4097 3450 3541 \nQ 3450 3153 3228 2886 \nQ 3006 2619 2597 2516 \nz\n\" transform=\"scale(0.015625)\"/>\n       </defs>\n       <use xlink:href=\"#DejaVuSans-33\"/>\n       <use xlink:href=\"#DejaVuSans-30\" transform=\"translate(63.623047 0)\"/>\n       <use xlink:href=\"#DejaVuSans-30\" transform=\"translate(127.246094 0)\"/>\n      </g>\n     </g>\n    </g>\n    <g id=\"xtick_5\">\n     <g id=\"line2d_5\">\n      <g>\n       <use xlink:href=\"#m9e2946c6dc\" x=\"309.340799\" y=\"256.68\" style=\"stroke: #000000; stroke-width: 0.8\"/>\n      </g>\n     </g>\n     <g id=\"text_5\">\n      <!-- 400 -->\n      <g transform=\"translate(299.797049 271.278437) scale(0.1 -0.1)\">\n       <defs>\n        <path id=\"DejaVuSans-34\" d=\"M 2419 4116 \nL 825 1625 \nL 2419 1625 \nL 2419 4116 \nz\nM 2253 4666 \nL 3047 4666 \nL 3047 1625 \nL 3713 1625 \nL 3713 1100 \nL 3047 1100 \nL 3047 0 \nL 2419 0 \nL 2419 1100 \nL 313 1100 \nL 313 1709 \nL 2253 4666 \nz\n\" transform=\"scale(0.015625)\"/>\n       </defs>\n       <use xlink:href=\"#DejaVuSans-34\"/>\n       <use xlink:href=\"#DejaVuSans-30\" transform=\"translate(63.623047 0)\"/>\n       <use xlink:href=\"#DejaVuSans-30\" transform=\"translate(127.246094 0)\"/>\n      </g>\n     </g>\n    </g>\n    <g id=\"xtick_6\">\n     <g id=\"line2d_6\">\n      <g>\n       <use xlink:href=\"#m9e2946c6dc\" x=\"370.335515\" y=\"256.68\" style=\"stroke: #000000; stroke-width: 0.8\"/>\n      </g>\n     </g>\n     <g id=\"text_6\">\n      <!-- 500 -->\n      <g transform=\"translate(360.791765 271.278437) scale(0.1 -0.1)\">\n       <defs>\n        <path id=\"DejaVuSans-35\" d=\"M 691 4666 \nL 3169 4666 \nL 3169 4134 \nL 1269 4134 \nL 1269 2991 \nQ 1406 3038 1543 3061 \nQ 1681 3084 1819 3084 \nQ 2600 3084 3056 2656 \nQ 3513 2228 3513 1497 \nQ 3513 744 3044 326 \nQ 2575 -91 1722 -91 \nQ 1428 -91 1123 -41 \nQ 819 9 494 109 \nL 494 744 \nQ 775 591 1075 516 \nQ 1375 441 1709 441 \nQ 2250 441 2565 725 \nQ 2881 1009 2881 1497 \nQ 2881 1984 2565 2268 \nQ 2250 2553 1709 2553 \nQ 1456 2553 1204 2497 \nQ 953 2441 691 2322 \nL 691 4666 \nz\n\" transform=\"scale(0.015625)\"/>\n       </defs>\n       <use xlink:href=\"#DejaVuSans-35\"/>\n       <use xlink:href=\"#DejaVuSans-30\" transform=\"translate(63.623047 0)\"/>\n       <use xlink:href=\"#DejaVuSans-30\" transform=\"translate(127.246094 0)\"/>\n      </g>\n     </g>\n    </g>\n    <g id=\"text_7\">\n     <!-- Groups of experiments -->\n     <g transform=\"translate(160.397656 284.956562) scale(0.1 -0.1)\">\n      <defs>\n       <path id=\"DejaVuSans-47\" d=\"M 3809 666 \nL 3809 1919 \nL 2778 1919 \nL 2778 2438 \nL 4434 2438 \nL 4434 434 \nQ 4069 175 3628 42 \nQ 3188 -91 2688 -91 \nQ 1594 -91 976 548 \nQ 359 1188 359 2328 \nQ 359 3472 976 4111 \nQ 1594 4750 2688 4750 \nQ 3144 4750 3555 4637 \nQ 3966 4525 4313 4306 \nL 4313 3634 \nQ 3963 3931 3569 4081 \nQ 3175 4231 2741 4231 \nQ 1884 4231 1454 3753 \nQ 1025 3275 1025 2328 \nQ 1025 1384 1454 906 \nQ 1884 428 2741 428 \nQ 3075 428 3337 486 \nQ 3600 544 3809 666 \nz\n\" transform=\"scale(0.015625)\"/>\n       <path id=\"DejaVuSans-72\" d=\"M 2631 2963 \nQ 2534 3019 2420 3045 \nQ 2306 3072 2169 3072 \nQ 1681 3072 1420 2755 \nQ 1159 2438 1159 1844 \nL 1159 0 \nL 581 0 \nL 581 3500 \nL 1159 3500 \nL 1159 2956 \nQ 1341 3275 1631 3429 \nQ 1922 3584 2338 3584 \nQ 2397 3584 2469 3576 \nQ 2541 3569 2628 3553 \nL 2631 2963 \nz\n\" transform=\"scale(0.015625)\"/>\n       <path id=\"DejaVuSans-6f\" d=\"M 1959 3097 \nQ 1497 3097 1228 2736 \nQ 959 2375 959 1747 \nQ 959 1119 1226 758 \nQ 1494 397 1959 397 \nQ 2419 397 2687 759 \nQ 2956 1122 2956 1747 \nQ 2956 2369 2687 2733 \nQ 2419 3097 1959 3097 \nz\nM 1959 3584 \nQ 2709 3584 3137 3096 \nQ 3566 2609 3566 1747 \nQ 3566 888 3137 398 \nQ 2709 -91 1959 -91 \nQ 1206 -91 779 398 \nQ 353 888 353 1747 \nQ 353 2609 779 3096 \nQ 1206 3584 1959 3584 \nz\n\" transform=\"scale(0.015625)\"/>\n       <path id=\"DejaVuSans-75\" d=\"M 544 1381 \nL 544 3500 \nL 1119 3500 \nL 1119 1403 \nQ 1119 906 1312 657 \nQ 1506 409 1894 409 \nQ 2359 409 2629 706 \nQ 2900 1003 2900 1516 \nL 2900 3500 \nL 3475 3500 \nL 3475 0 \nL 2900 0 \nL 2900 538 \nQ 2691 219 2414 64 \nQ 2138 -91 1772 -91 \nQ 1169 -91 856 284 \nQ 544 659 544 1381 \nz\nM 1991 3584 \nL 1991 3584 \nz\n\" transform=\"scale(0.015625)\"/>\n       <path id=\"DejaVuSans-70\" d=\"M 1159 525 \nL 1159 -1331 \nL 581 -1331 \nL 581 3500 \nL 1159 3500 \nL 1159 2969 \nQ 1341 3281 1617 3432 \nQ 1894 3584 2278 3584 \nQ 2916 3584 3314 3078 \nQ 3713 2572 3713 1747 \nQ 3713 922 3314 415 \nQ 2916 -91 2278 -91 \nQ 1894 -91 1617 61 \nQ 1341 213 1159 525 \nz\nM 3116 1747 \nQ 3116 2381 2855 2742 \nQ 2594 3103 2138 3103 \nQ 1681 3103 1420 2742 \nQ 1159 2381 1159 1747 \nQ 1159 1113 1420 752 \nQ 1681 391 2138 391 \nQ 2594 391 2855 752 \nQ 3116 1113 3116 1747 \nz\n\" transform=\"scale(0.015625)\"/>\n       <path id=\"DejaVuSans-73\" d=\"M 2834 3397 \nL 2834 2853 \nQ 2591 2978 2328 3040 \nQ 2066 3103 1784 3103 \nQ 1356 3103 1142 2972 \nQ 928 2841 928 2578 \nQ 928 2378 1081 2264 \nQ 1234 2150 1697 2047 \nL 1894 2003 \nQ 2506 1872 2764 1633 \nQ 3022 1394 3022 966 \nQ 3022 478 2636 193 \nQ 2250 -91 1575 -91 \nQ 1294 -91 989 -36 \nQ 684 19 347 128 \nL 347 722 \nQ 666 556 975 473 \nQ 1284 391 1588 391 \nQ 1994 391 2212 530 \nQ 2431 669 2431 922 \nQ 2431 1156 2273 1281 \nQ 2116 1406 1581 1522 \nL 1381 1569 \nQ 847 1681 609 1914 \nQ 372 2147 372 2553 \nQ 372 3047 722 3315 \nQ 1072 3584 1716 3584 \nQ 2034 3584 2315 3537 \nQ 2597 3491 2834 3397 \nz\n\" transform=\"scale(0.015625)\"/>\n       <path id=\"DejaVuSans-20\" transform=\"scale(0.015625)\"/>\n       <path id=\"DejaVuSans-66\" d=\"M 2375 4863 \nL 2375 4384 \nL 1825 4384 \nQ 1516 4384 1395 4259 \nQ 1275 4134 1275 3809 \nL 1275 3500 \nL 2222 3500 \nL 2222 3053 \nL 1275 3053 \nL 1275 0 \nL 697 0 \nL 697 3053 \nL 147 3053 \nL 147 3500 \nL 697 3500 \nL 697 3744 \nQ 697 4328 969 4595 \nQ 1241 4863 1831 4863 \nL 2375 4863 \nz\n\" transform=\"scale(0.015625)\"/>\n       <path id=\"DejaVuSans-65\" d=\"M 3597 1894 \nL 3597 1613 \nL 953 1613 \nQ 991 1019 1311 708 \nQ 1631 397 2203 397 \nQ 2534 397 2845 478 \nQ 3156 559 3463 722 \nL 3463 178 \nQ 3153 47 2828 -22 \nQ 2503 -91 2169 -91 \nQ 1331 -91 842 396 \nQ 353 884 353 1716 \nQ 353 2575 817 3079 \nQ 1281 3584 2069 3584 \nQ 2775 3584 3186 3129 \nQ 3597 2675 3597 1894 \nz\nM 3022 2063 \nQ 3016 2534 2758 2815 \nQ 2500 3097 2075 3097 \nQ 1594 3097 1305 2825 \nQ 1016 2553 972 2059 \nL 3022 2063 \nz\n\" transform=\"scale(0.015625)\"/>\n       <path id=\"DejaVuSans-78\" d=\"M 3513 3500 \nL 2247 1797 \nL 3578 0 \nL 2900 0 \nL 1881 1375 \nL 863 0 \nL 184 0 \nL 1544 1831 \nL 300 3500 \nL 978 3500 \nL 1906 2253 \nL 2834 3500 \nL 3513 3500 \nz\n\" transform=\"scale(0.015625)\"/>\n       <path id=\"DejaVuSans-69\" d=\"M 603 3500 \nL 1178 3500 \nL 1178 0 \nL 603 0 \nL 603 3500 \nz\nM 603 4863 \nL 1178 4863 \nL 1178 4134 \nL 603 4134 \nL 603 4863 \nz\n\" transform=\"scale(0.015625)\"/>\n       <path id=\"DejaVuSans-6d\" d=\"M 3328 2828 \nQ 3544 3216 3844 3400 \nQ 4144 3584 4550 3584 \nQ 5097 3584 5394 3201 \nQ 5691 2819 5691 2113 \nL 5691 0 \nL 5113 0 \nL 5113 2094 \nQ 5113 2597 4934 2840 \nQ 4756 3084 4391 3084 \nQ 3944 3084 3684 2787 \nQ 3425 2491 3425 1978 \nL 3425 0 \nL 2847 0 \nL 2847 2094 \nQ 2847 2600 2669 2842 \nQ 2491 3084 2119 3084 \nQ 1678 3084 1418 2786 \nQ 1159 2488 1159 1978 \nL 1159 0 \nL 581 0 \nL 581 3500 \nL 1159 3500 \nL 1159 2956 \nQ 1356 3278 1631 3431 \nQ 1906 3584 2284 3584 \nQ 2666 3584 2933 3390 \nQ 3200 3197 3328 2828 \nz\n\" transform=\"scale(0.015625)\"/>\n       <path id=\"DejaVuSans-6e\" d=\"M 3513 2113 \nL 3513 0 \nL 2938 0 \nL 2938 2094 \nQ 2938 2591 2744 2837 \nQ 2550 3084 2163 3084 \nQ 1697 3084 1428 2787 \nQ 1159 2491 1159 1978 \nL 1159 0 \nL 581 0 \nL 581 3500 \nL 1159 3500 \nL 1159 2956 \nQ 1366 3272 1645 3428 \nQ 1925 3584 2291 3584 \nQ 2894 3584 3203 3211 \nQ 3513 2838 3513 2113 \nz\n\" transform=\"scale(0.015625)\"/>\n       <path id=\"DejaVuSans-74\" d=\"M 1172 4494 \nL 1172 3500 \nL 2356 3500 \nL 2356 3053 \nL 1172 3053 \nL 1172 1153 \nQ 1172 725 1289 603 \nQ 1406 481 1766 481 \nL 2356 481 \nL 2356 0 \nL 1766 0 \nQ 1100 0 847 248 \nQ 594 497 594 1153 \nL 594 3053 \nL 172 3053 \nL 172 3500 \nL 594 3500 \nL 594 4494 \nL 1172 4494 \nz\n\" transform=\"scale(0.015625)\"/>\n      </defs>\n      <use xlink:href=\"#DejaVuSans-47\"/>\n      <use xlink:href=\"#DejaVuSans-72\" transform=\"translate(77.490234 0)\"/>\n      <use xlink:href=\"#DejaVuSans-6f\" transform=\"translate(116.353516 0)\"/>\n      <use xlink:href=\"#DejaVuSans-75\" transform=\"translate(177.535156 0)\"/>\n      <use xlink:href=\"#DejaVuSans-70\" transform=\"translate(240.914062 0)\"/>\n      <use xlink:href=\"#DejaVuSans-73\" transform=\"translate(304.390625 0)\"/>\n      <use xlink:href=\"#DejaVuSans-20\" transform=\"translate(356.490234 0)\"/>\n      <use xlink:href=\"#DejaVuSans-6f\" transform=\"translate(388.277344 0)\"/>\n      <use xlink:href=\"#DejaVuSans-66\" transform=\"translate(449.458984 0)\"/>\n      <use xlink:href=\"#DejaVuSans-20\" transform=\"translate(484.664062 0)\"/>\n      <use xlink:href=\"#DejaVuSans-65\" transform=\"translate(516.451172 0)\"/>\n      <use xlink:href=\"#DejaVuSans-78\" transform=\"translate(576.224609 0)\"/>\n      <use xlink:href=\"#DejaVuSans-70\" transform=\"translate(635.404297 0)\"/>\n      <use xlink:href=\"#DejaVuSans-65\" transform=\"translate(698.880859 0)\"/>\n      <use xlink:href=\"#DejaVuSans-72\" transform=\"translate(760.404297 0)\"/>\n      <use xlink:href=\"#DejaVuSans-69\" transform=\"translate(801.517578 0)\"/>\n      <use xlink:href=\"#DejaVuSans-6d\" transform=\"translate(829.300781 0)\"/>\n      <use xlink:href=\"#DejaVuSans-65\" transform=\"translate(926.712891 0)\"/>\n      <use xlink:href=\"#DejaVuSans-6e\" transform=\"translate(988.236328 0)\"/>\n      <use xlink:href=\"#DejaVuSans-74\" transform=\"translate(1051.615234 0)\"/>\n      <use xlink:href=\"#DejaVuSans-73\" transform=\"translate(1090.824219 0)\"/>\n     </g>\n    </g>\n   </g>\n   <g id=\"matplotlib.axis_2\">\n    <g id=\"ytick_1\">\n     <g id=\"line2d_7\">\n      <defs>\n       <path id=\"mf571fa0a76\" d=\"M 0 0 \nL -3.5 0 \n\" style=\"stroke: #000000; stroke-width: 0.8\"/>\n      </defs>\n      <g>\n       <use xlink:href=\"#mf571fa0a76\" x=\"50.14375\" y=\"222.660003\" style=\"stroke: #000000; stroke-width: 0.8\"/>\n      </g>\n     </g>\n     <g id=\"text_8\">\n      <!-- 0.10 -->\n      <g transform=\"translate(20.878125 226.459221) scale(0.1 -0.1)\">\n       <defs>\n        <path id=\"DejaVuSans-2e\" d=\"M 684 794 \nL 1344 794 \nL 1344 0 \nL 684 0 \nL 684 794 \nz\n\" transform=\"scale(0.015625)\"/>\n       </defs>\n       <use xlink:href=\"#DejaVuSans-30\"/>\n       <use xlink:href=\"#DejaVuSans-2e\" transform=\"translate(63.623047 0)\"/>\n       <use xlink:href=\"#DejaVuSans-31\" transform=\"translate(95.410156 0)\"/>\n       <use xlink:href=\"#DejaVuSans-30\" transform=\"translate(159.033203 0)\"/>\n      </g>\n     </g>\n    </g>\n    <g id=\"ytick_2\">\n     <g id=\"line2d_8\">\n      <g>\n       <use xlink:href=\"#mf571fa0a76\" x=\"50.14375\" y=\"188.640003\" style=\"stroke: #000000; stroke-width: 0.8\"/>\n      </g>\n     </g>\n     <g id=\"text_9\">\n      <!-- 0.15 -->\n      <g transform=\"translate(20.878125 192.439222) scale(0.1 -0.1)\">\n       <use xlink:href=\"#DejaVuSans-30\"/>\n       <use xlink:href=\"#DejaVuSans-2e\" transform=\"translate(63.623047 0)\"/>\n       <use xlink:href=\"#DejaVuSans-31\" transform=\"translate(95.410156 0)\"/>\n       <use xlink:href=\"#DejaVuSans-35\" transform=\"translate(159.033203 0)\"/>\n      </g>\n     </g>\n    </g>\n    <g id=\"ytick_3\">\n     <g id=\"line2d_9\">\n      <g>\n       <use xlink:href=\"#mf571fa0a76\" x=\"50.14375\" y=\"154.620003\" style=\"stroke: #000000; stroke-width: 0.8\"/>\n      </g>\n     </g>\n     <g id=\"text_10\">\n      <!-- 0.20 -->\n      <g transform=\"translate(20.878125 158.419222) scale(0.1 -0.1)\">\n       <use xlink:href=\"#DejaVuSans-30\"/>\n       <use xlink:href=\"#DejaVuSans-2e\" transform=\"translate(63.623047 0)\"/>\n       <use xlink:href=\"#DejaVuSans-32\" transform=\"translate(95.410156 0)\"/>\n       <use xlink:href=\"#DejaVuSans-30\" transform=\"translate(159.033203 0)\"/>\n      </g>\n     </g>\n    </g>\n    <g id=\"ytick_4\">\n     <g id=\"line2d_10\">\n      <g>\n       <use xlink:href=\"#mf571fa0a76\" x=\"50.14375\" y=\"120.600003\" style=\"stroke: #000000; stroke-width: 0.8\"/>\n      </g>\n     </g>\n     <g id=\"text_11\">\n      <!-- 0.25 -->\n      <g transform=\"translate(20.878125 124.399222) scale(0.1 -0.1)\">\n       <use xlink:href=\"#DejaVuSans-30\"/>\n       <use xlink:href=\"#DejaVuSans-2e\" transform=\"translate(63.623047 0)\"/>\n       <use xlink:href=\"#DejaVuSans-32\" transform=\"translate(95.410156 0)\"/>\n       <use xlink:href=\"#DejaVuSans-35\" transform=\"translate(159.033203 0)\"/>\n      </g>\n     </g>\n    </g>\n    <g id=\"ytick_5\">\n     <g id=\"line2d_11\">\n      <g>\n       <use xlink:href=\"#mf571fa0a76\" x=\"50.14375\" y=\"86.580004\" style=\"stroke: #000000; stroke-width: 0.8\"/>\n      </g>\n     </g>\n     <g id=\"text_12\">\n      <!-- 0.30 -->\n      <g transform=\"translate(20.878125 90.379222) scale(0.1 -0.1)\">\n       <use xlink:href=\"#DejaVuSans-30\"/>\n       <use xlink:href=\"#DejaVuSans-2e\" transform=\"translate(63.623047 0)\"/>\n       <use xlink:href=\"#DejaVuSans-33\" transform=\"translate(95.410156 0)\"/>\n       <use xlink:href=\"#DejaVuSans-30\" transform=\"translate(159.033203 0)\"/>\n      </g>\n     </g>\n    </g>\n    <g id=\"ytick_6\">\n     <g id=\"line2d_12\">\n      <g>\n       <use xlink:href=\"#mf571fa0a76\" x=\"50.14375\" y=\"52.560004\" style=\"stroke: #000000; stroke-width: 0.8\"/>\n      </g>\n     </g>\n     <g id=\"text_13\">\n      <!-- 0.35 -->\n      <g transform=\"translate(20.878125 56.359223) scale(0.1 -0.1)\">\n       <use xlink:href=\"#DejaVuSans-30\"/>\n       <use xlink:href=\"#DejaVuSans-2e\" transform=\"translate(63.623047 0)\"/>\n       <use xlink:href=\"#DejaVuSans-33\" transform=\"translate(95.410156 0)\"/>\n       <use xlink:href=\"#DejaVuSans-35\" transform=\"translate(159.033203 0)\"/>\n      </g>\n     </g>\n    </g>\n    <g id=\"ytick_7\">\n     <g id=\"line2d_13\">\n      <g>\n       <use xlink:href=\"#mf571fa0a76\" x=\"50.14375\" y=\"18.540004\" style=\"stroke: #000000; stroke-width: 0.8\"/>\n      </g>\n     </g>\n     <g id=\"text_14\">\n      <!-- 0.40 -->\n      <g transform=\"translate(20.878125 22.339223) scale(0.1 -0.1)\">\n       <use xlink:href=\"#DejaVuSans-30\"/>\n       <use xlink:href=\"#DejaVuSans-2e\" transform=\"translate(63.623047 0)\"/>\n       <use xlink:href=\"#DejaVuSans-34\" transform=\"translate(95.410156 0)\"/>\n       <use xlink:href=\"#DejaVuSans-30\" transform=\"translate(159.033203 0)\"/>\n      </g>\n     </g>\n    </g>\n    <g id=\"text_15\">\n     <!-- Estimated probability -->\n     <g transform=\"translate(14.798438 185.463437) rotate(-90) scale(0.1 -0.1)\">\n      <defs>\n       <path id=\"DejaVuSans-45\" d=\"M 628 4666 \nL 3578 4666 \nL 3578 4134 \nL 1259 4134 \nL 1259 2753 \nL 3481 2753 \nL 3481 2222 \nL 1259 2222 \nL 1259 531 \nL 3634 531 \nL 3634 0 \nL 628 0 \nL 628 4666 \nz\n\" transform=\"scale(0.015625)\"/>\n       <path id=\"DejaVuSans-61\" d=\"M 2194 1759 \nQ 1497 1759 1228 1600 \nQ 959 1441 959 1056 \nQ 959 750 1161 570 \nQ 1363 391 1709 391 \nQ 2188 391 2477 730 \nQ 2766 1069 2766 1631 \nL 2766 1759 \nL 2194 1759 \nz\nM 3341 1997 \nL 3341 0 \nL 2766 0 \nL 2766 531 \nQ 2569 213 2275 61 \nQ 1981 -91 1556 -91 \nQ 1019 -91 701 211 \nQ 384 513 384 1019 \nQ 384 1609 779 1909 \nQ 1175 2209 1959 2209 \nL 2766 2209 \nL 2766 2266 \nQ 2766 2663 2505 2880 \nQ 2244 3097 1772 3097 \nQ 1472 3097 1187 3025 \nQ 903 2953 641 2809 \nL 641 3341 \nQ 956 3463 1253 3523 \nQ 1550 3584 1831 3584 \nQ 2591 3584 2966 3190 \nQ 3341 2797 3341 1997 \nz\n\" transform=\"scale(0.015625)\"/>\n       <path id=\"DejaVuSans-64\" d=\"M 2906 2969 \nL 2906 4863 \nL 3481 4863 \nL 3481 0 \nL 2906 0 \nL 2906 525 \nQ 2725 213 2448 61 \nQ 2172 -91 1784 -91 \nQ 1150 -91 751 415 \nQ 353 922 353 1747 \nQ 353 2572 751 3078 \nQ 1150 3584 1784 3584 \nQ 2172 3584 2448 3432 \nQ 2725 3281 2906 2969 \nz\nM 947 1747 \nQ 947 1113 1208 752 \nQ 1469 391 1925 391 \nQ 2381 391 2643 752 \nQ 2906 1113 2906 1747 \nQ 2906 2381 2643 2742 \nQ 2381 3103 1925 3103 \nQ 1469 3103 1208 2742 \nQ 947 2381 947 1747 \nz\n\" transform=\"scale(0.015625)\"/>\n       <path id=\"DejaVuSans-62\" d=\"M 3116 1747 \nQ 3116 2381 2855 2742 \nQ 2594 3103 2138 3103 \nQ 1681 3103 1420 2742 \nQ 1159 2381 1159 1747 \nQ 1159 1113 1420 752 \nQ 1681 391 2138 391 \nQ 2594 391 2855 752 \nQ 3116 1113 3116 1747 \nz\nM 1159 2969 \nQ 1341 3281 1617 3432 \nQ 1894 3584 2278 3584 \nQ 2916 3584 3314 3078 \nQ 3713 2572 3713 1747 \nQ 3713 922 3314 415 \nQ 2916 -91 2278 -91 \nQ 1894 -91 1617 61 \nQ 1341 213 1159 525 \nL 1159 0 \nL 581 0 \nL 581 4863 \nL 1159 4863 \nL 1159 2969 \nz\n\" transform=\"scale(0.015625)\"/>\n       <path id=\"DejaVuSans-6c\" d=\"M 603 4863 \nL 1178 4863 \nL 1178 0 \nL 603 0 \nL 603 4863 \nz\n\" transform=\"scale(0.015625)\"/>\n       <path id=\"DejaVuSans-79\" d=\"M 2059 -325 \nQ 1816 -950 1584 -1140 \nQ 1353 -1331 966 -1331 \nL 506 -1331 \nL 506 -850 \nL 844 -850 \nQ 1081 -850 1212 -737 \nQ 1344 -625 1503 -206 \nL 1606 56 \nL 191 3500 \nL 800 3500 \nL 1894 763 \nL 2988 3500 \nL 3597 3500 \nL 2059 -325 \nz\n\" transform=\"scale(0.015625)\"/>\n      </defs>\n      <use xlink:href=\"#DejaVuSans-45\"/>\n      <use xlink:href=\"#DejaVuSans-73\" transform=\"translate(63.183594 0)\"/>\n      <use xlink:href=\"#DejaVuSans-74\" transform=\"translate(115.283203 0)\"/>\n      <use xlink:href=\"#DejaVuSans-69\" transform=\"translate(154.492188 0)\"/>\n      <use xlink:href=\"#DejaVuSans-6d\" transform=\"translate(182.275391 0)\"/>\n      <use xlink:href=\"#DejaVuSans-61\" transform=\"translate(279.6875 0)\"/>\n      <use xlink:href=\"#DejaVuSans-74\" transform=\"translate(340.966797 0)\"/>\n      <use xlink:href=\"#DejaVuSans-65\" transform=\"translate(380.175781 0)\"/>\n      <use xlink:href=\"#DejaVuSans-64\" transform=\"translate(441.699219 0)\"/>\n      <use xlink:href=\"#DejaVuSans-20\" transform=\"translate(505.175781 0)\"/>\n      <use xlink:href=\"#DejaVuSans-70\" transform=\"translate(536.962891 0)\"/>\n      <use xlink:href=\"#DejaVuSans-72\" transform=\"translate(600.439453 0)\"/>\n      <use xlink:href=\"#DejaVuSans-6f\" transform=\"translate(639.302734 0)\"/>\n      <use xlink:href=\"#DejaVuSans-62\" transform=\"translate(700.484375 0)\"/>\n      <use xlink:href=\"#DejaVuSans-61\" transform=\"translate(763.960938 0)\"/>\n      <use xlink:href=\"#DejaVuSans-62\" transform=\"translate(825.240234 0)\"/>\n      <use xlink:href=\"#DejaVuSans-69\" transform=\"translate(888.716797 0)\"/>\n      <use xlink:href=\"#DejaVuSans-6c\" transform=\"translate(916.5 0)\"/>\n      <use xlink:href=\"#DejaVuSans-69\" transform=\"translate(944.283203 0)\"/>\n      <use xlink:href=\"#DejaVuSans-74\" transform=\"translate(972.066406 0)\"/>\n      <use xlink:href=\"#DejaVuSans-79\" transform=\"translate(1011.275391 0)\"/>\n     </g>\n    </g>\n   </g>\n   <g id=\"line2d_14\">\n    <path d=\"M 65.361932 222.660002 \nL 66.581826 154.620001 \nL 67.191773 188.639999 \nL 67.80172 195.444002 \nL 68.411668 199.979998 \nL 69.021615 203.219998 \nL 69.631562 188.639999 \nL 70.241509 192.419998 \nL 70.851456 188.639999 \nL 72.071351 194.310003 \nL 72.681298 180.78923 \nL 73.291245 183.779999 \nL 74.511139 180.135007 \nL 75.121086 186.638822 \nL 75.731034 188.639999 \nL 76.950928 185.238002 \nL 77.560875 177.299999 \nL 78.170822 179.361826 \nL 78.780769 184.202613 \nL 79.390717 180.135007 \nL 80.610611 188.639999 \nL 81.220558 182.340003 \nL 81.830505 183.779999 \nL 82.440452 187.466895 \nL 83.0504 186.372001 \nL 84.270294 188.639999 \nL 84.880241 191.732733 \nL 85.490188 192.642351 \nL 86.100135 195.444002 \nL 86.710083 190.530004 \nL 87.929977 195.802103 \nL 89.759819 197.767317 \nL 90.369766 198.359998 \nL 90.979713 197.342798 \nL 92.199607 198.468006 \nL 92.809554 197.514781 \nL 93.419502 193.706809 \nL 94.029449 191.475006 \nL 94.639396 193.499998 \nL 95.249343 191.361604 \nL 95.85929 187.97294 \nL 96.469237 189.948465 \nL 97.079185 190.565662 \nL 98.299079 189.258544 \nL 98.909026 187.425001 \nL 99.518973 186.849475 \nL 100.738868 188.063388 \nL 101.348815 186.372001 \nL 101.958762 183.620658 \nL 102.568709 185.347744 \nL 103.178656 184.859999 \nL 103.788603 186.513751 \nL 104.398551 186.023076 \nL 105.008498 186.578183 \nL 105.618445 188.13224 \nL 106.228392 187.639416 \nL 106.838339 188.146961 \nL 107.448286 186.696005 \nL 108.058234 187.202537 \nL 108.668181 186.750004 \nL 109.278128 185.377815 \nL 109.888075 184.962167 \nL 110.498022 183.650406 \nL 111.107969 185.058952 \nL 112.327864 184.278461 \nL 112.937811 183.041776 \nL 113.547758 182.686504 \nL 114.157705 183.179998 \nL 115.3776 182.49181 \nL 115.987547 182.970004 \nL 116.597494 184.237419 \nL 117.207441 183.893026 \nL 117.817388 184.338624 \nL 118.427335 184.000912 \nL 119.037283 185.199779 \nL 119.64723 184.104003 \nL 120.257177 183.779999 \nL 120.867124 184.202613 \nL 121.477071 183.884519 \nL 123.306913 187.2225 \nL 123.91686 186.184951 \nL 124.526807 185.862863 \nL 125.136754 186.921825 \nL 125.746701 186.598805 \nL 126.966596 184.637646 \nL 128.18649 184.060386 \nL 128.796437 184.428007 \nL 130.016332 183.870842 \nL 131.236226 185.831007 \nL 131.846173 185.547274 \nL 132.45612 185.88162 \nL 133.066067 186.817508 \nL 133.676015 187.134688 \nL 134.895909 186.56922 \nL 136.115803 184.859999 \nL 136.72575 185.756954 \nL 137.945645 186.372001 \nL 138.555592 184.984959 \nL 139.165539 185.851477 \nL 140.385433 185.347744 \nL 140.995381 184.557601 \nL 142.215275 184.086149 \nL 143.435169 184.684193 \nL 145.265011 187.093637 \nL 145.874958 186.849475 \nL 147.704799 187.639416 \nL 148.314747 187.398397 \nL 149.534641 187.905761 \nL 150.144588 186.696005 \nL 150.754535 187.433619 \nL 151.97443 186.023076 \nL 152.584377 185.805001 \nL 154.414218 187.945717 \nL 155.024165 186.801083 \nL 155.634113 187.041746 \nL 156.24406 186.825598 \nL 156.854007 187.062916 \nL 158.073901 185.749411 \nL 159.293796 185.347744 \nL 160.51369 185.823059 \nL 162.343531 187.7895 \nL 162.953479 187.58348 \nL 163.563426 188.220001 \nL 164.173373 188.01387 \nL 164.78332 188.639999 \nL 165.393267 188.84618 \nL 166.003214 189.459757 \nL 166.613162 189.251142 \nL 167.223109 189.855006 \nL 167.833056 190.049113 \nL 169.05295 189.634742 \nL 169.662897 190.222333 \nL 170.272845 189.623245 \nL 170.882792 188.248967 \nL 171.492739 188.834399 \nL 172.102686 189.026589 \nL 172.712633 188.447798 \nL 173.932528 188.069836 \nL 174.542475 187.506 \nL 175.762369 187.144614 \nL 176.372316 187.33869 \nL 176.982263 186.791086 \nL 177.592211 186.98498 \nL 178.202158 186.810968 \nL 179.422052 187.192347 \nL 180.641946 186.849475 \nL 181.251894 187.393196 \nL 182.471788 187.758657 \nL 183.691682 187.418776 \nL 184.301629 187.598577 \nL 184.911577 188.121929 \nL 186.131471 187.785231 \nL 186.741418 187.959607 \nL 187.351365 187.793738 \nL 187.961312 187.292681 \nL 188.57126 187.466895 \nL 189.181207 187.305881 \nL 189.791154 185.818831 \nL 191.011048 185.517396 \nL 191.620995 186.023076 \nL 192.230943 184.570629 \nL 192.84089 184.104003 \nL 194.060784 183.825857 \nL 194.670731 184.008172 \nL 195.280678 184.506735 \nL 197.720467 185.206795 \nL 198.330414 185.067124 \nL 198.940361 185.547274 \nL 199.550309 185.407329 \nL 200.770203 185.741442 \nL 201.38015 185.298753 \nL 201.990097 185.162407 \nL 202.600044 185.328318 \nL 203.209992 184.893305 \nL 203.819939 185.058952 \nL 204.429886 185.520265 \nL 205.039833 185.385916 \nL 205.64978 185.841825 \nL 206.259727 185.41397 \nL 206.869675 185.573818 \nL 207.479622 185.150768 \nL 208.089569 185.02085 \nL 208.699516 185.180343 \nL 209.309463 185.625576 \nL 210.529358 185.935487 \nL 211.139305 185.521502 \nL 211.749252 184.82863 \nL 212.359199 184.703801 \nL 212.969146 184.859999 \nL 213.579093 184.736073 \nL 214.189041 184.33543 \nL 214.798988 184.491222 \nL 216.628829 183.311569 \nL 217.238776 183.741127 \nL 217.848724 183.35403 \nL 219.068618 183.664742 \nL 219.678565 183.550397 \nL 220.288512 183.170123 \nL 220.898459 183.058597 \nL 221.508407 182.683189 \nL 222.118354 182.046983 \nL 222.728301 181.678378 \nL 224.558142 182.14764 \nL 225.16809 182.042968 \nL 225.778037 181.423642 \nL 226.997931 181.733685 \nL 228.217825 181.023587 \nL 228.827773 181.178365 \nL 229.43772 181.584007 \nL 230.047667 181.484505 \nL 230.657614 181.635887 \nL 231.267561 181.536922 \nL 232.487456 180.846331 \nL 233.097403 180.751311 \nL 233.70735 180.411339 \nL 234.927244 180.226458 \nL 235.537191 180.621008 \nL 236.147139 180.528472 \nL 236.757086 180.919148 \nL 237.97698 180.733943 \nL 238.586927 180.881057 \nL 239.196874 181.265042 \nL 239.806822 181.172201 \nL 240.416769 181.552506 \nL 241.026716 181.694742 \nL 241.636663 181.601384 \nL 242.24661 181.274846 \nL 242.856557 181.183567 \nL 244.076452 181.465718 \nL 244.686399 181.144066 \nL 247.126188 181.699467 \nL 247.736135 181.609201 \nL 248.346082 181.293491 \nL 248.956029 181.430465 \nL 249.565976 181.117432 \nL 250.175923 181.254082 \nL 252.005765 180.99381 \nL 253.835606 180.080136 \nL 254.445554 180.435824 \nL 255.055501 180.135007 \nL 255.665448 180.053481 \nL 256.275395 179.755797 \nL 256.885342 179.676005 \nL 257.495289 179.381394 \nL 258.105237 179.517922 \nL 258.715184 179.225662 \nL 259.325131 179.148527 \nL 259.935078 179.284508 \nL 260.545025 179.207666 \nL 261.154972 179.342613 \nL 261.76492 179.266075 \nL 262.374867 178.560003 \nL 263.594761 178.413133 \nL 264.204708 178.548445 \nL 264.814655 178.268047 \nL 265.424603 178.609794 \nL 266.03455 178.537089 \nL 266.644497 178.875957 \nL 267.254444 178.597952 \nL 268.474338 178.454377 \nL 269.084286 177.977015 \nL 269.694233 178.110005 \nL 271.524074 177.90213 \nL 272.134021 178.23389 \nL 273.353916 178.09579 \nL 273.963863 178.424083 \nL 275.793704 178.217688 \nL 276.403652 177.953604 \nL 277.013599 178.082072 \nL 277.623546 178.014842 \nL 278.233493 178.142398 \nL 278.84344 177.881538 \nL 279.453387 177.815454 \nL 280.063335 177.556997 \nL 280.673282 176.915599 \nL 281.283229 177.236115 \nL 281.893176 177.172586 \nL 283.723018 177.552708 \nL 284.942912 178.179556 \nL 286.162806 178.04975 \nL 287.382701 178.294195 \nL 287.992648 178.22951 \nL 288.602595 178.535974 \nL 289.212542 178.470985 \nL 290.432436 179.077627 \nL 291.042384 179.195094 \nL 291.652331 179.494846 \nL 292.872225 179.725675 \nL 293.482172 179.658719 \nL 294.092119 179.95404 \nL 295.312014 180.180003 \nL 295.921961 180.11256 \nL 296.531908 179.866421 \nL 297.751802 180.090478 \nL 298.36175 180.37927 \nL 298.971697 180.312192 \nL 302.021433 180.856511 \nL 302.63138 181.138155 \nL 303.241327 181.070337 \nL 303.851274 181.350004 \nL 304.461221 181.455113 \nL 305.071168 181.732387 \nL 306.291063 181.939096 \nL 306.90101 181.870284 \nL 308.730851 182.176201 \nL 309.340799 181.768136 \nL 309.950746 181.531346 \nL 311.17064 181.398123 \nL 311.780587 181.163999 \nL 312.390534 181.433791 \nL 314.830323 181.836005 \nL 315.44027 182.10088 \nL 316.050217 182.034177 \nL 317.270112 182.559131 \nL 318.490006 182.424813 \nL 319.7099 181.640672 \nL 320.929795 181.512001 \nL 321.539742 181.771361 \nL 323.369583 181.579252 \nL 324.589478 181.772111 \nL 325.199425 181.389839 \nL 325.809372 181.486269 \nL 327.029266 181.361309 \nL 327.639214 180.825669 \nL 328.859108 180.704622 \nL 329.469055 180.487744 \nL 331.298897 180.310164 \nL 331.908844 180.406857 \nL 333.128738 179.980371 \nL 333.738685 180.231426 \nL 334.348632 180.173483 \nL 334.95858 180.269396 \nL 335.568527 180.51811 \nL 336.788421 180.707086 \nL 337.398368 180.953153 \nL 338.008315 180.894379 \nL 338.618263 181.138936 \nL 339.22821 181.231198 \nL 340.448104 181.113457 \nL 341.058051 180.754576 \nL 341.667998 180.846879 \nL 342.277946 180.78923 \nL 342.887893 181.030269 \nL 343.49784 180.972478 \nL 344.107787 181.063493 \nL 344.717734 181.005885 \nL 345.327681 181.244348 \nL 345.937629 181.186598 \nL 346.547576 181.276367 \nL 347.157523 180.924887 \nL 347.76747 181.014827 \nL 348.377417 180.519103 \nL 348.987365 180.755539 \nL 350.817206 180.588361 \nL 351.427153 180.243573 \nL 352.0371 180.478092 \nL 352.647048 180.423312 \nL 353.866942 180.027344 \nL 355.696783 179.867547 \nL 356.306731 179.672386 \nL 356.916678 179.762134 \nL 358.136572 180.223417 \nL 358.746519 180.029128 \nL 359.356466 179.976528 \nL 361.796255 180.327106 \nL 363.016149 180.778534 \nL 364.845991 180.619031 \nL 365.455938 180.842317 \nL 366.065885 180.926965 \nL 366.675832 181.14873 \nL 367.28578 180.958071 \nL 367.895727 181.041979 \nL 368.505674 180.852293 \nL 369.115621 180.799724 \nL 369.725568 180.883439 \nL 369.725568 180.883439 \n\" clip-path=\"url(#p8984605c8a)\" style=\"fill: none; stroke: #1f77b4; stroke-width: 1.5; stroke-linecap: square\"/>\n   </g>\n   <g id=\"line2d_15\">\n    <path d=\"M 65.361932 222.660002 \nL 66.581826 222.660002 \nL 67.191773 205.650003 \nL 67.80172 209.052004 \nL 68.411668 222.660002 \nL 69.021615 222.660002 \nL 69.631562 214.155005 \nL 70.241509 199.979998 \nL 70.851456 195.444002 \nL 71.461403 204.103641 \nL 72.071351 205.650003 \nL 72.681298 196.490767 \nL 73.291245 198.359998 \nL 73.901192 204.516004 \nL 75.121086 206.650591 \nL 75.731034 203.759998 \nL 76.950928 205.650003 \nL 77.560875 203.219998 \nL 78.170822 197.918182 \nL 78.780769 198.993913 \nL 79.390717 202.815005 \nL 80.000664 203.608799 \nL 81.220558 199.979998 \nL 82.440452 196.851727 \nL 83.0504 199.979998 \nL 83.660347 194.1271 \nL 84.270294 192.892505 \nL 84.880241 195.856366 \nL 85.490188 194.643528 \nL 86.100135 189.612001 \nL 86.710083 190.530004 \nL 87.32003 189.559462 \nL 87.929977 186.849475 \nL 88.539924 182.533845 \nL 89.149871 183.537004 \nL 90.369766 182.159999 \nL 90.979713 179.93721 \nL 91.58966 180.908188 \nL 92.809554 179.765216 \nL 93.419502 177.782553 \nL 94.639396 176.837145 \nL 95.249343 175.032002 \nL 95.85929 177.299999 \nL 96.469237 176.863851 \nL 97.689132 178.560003 \nL 98.299079 178.124726 \nL 98.909026 176.490005 \nL 100.12892 180.42828 \nL 100.738868 179.990854 \nL 101.348815 181.836005 \nL 101.958762 180.274425 \nL 102.568709 180.958071 \nL 103.178656 182.699999 \nL 103.788603 181.198126 \nL 104.398551 180.78923 \nL 105.008498 182.45455 \nL 105.618445 181.023587 \nL 106.228392 180.635293 \nL 106.838339 179.272179 \nL 107.448286 180.864003 \nL 108.058234 180.494365 \nL 108.668181 182.025002 \nL 109.278128 180.717539 \nL 109.888075 180.364873 \nL 111.107969 183.268428 \nL 112.327864 182.533845 \nL 113.547758 180.135007 \nL 114.767652 179.51269 \nL 115.3776 180.852293 \nL 115.987547 181.350004 \nL 116.597494 180.235066 \nL 117.207441 180.728377 \nL 117.817388 178.864145 \nL 118.427335 180.135007 \nL 119.037283 179.848313 \nL 120.867124 181.244348 \nL 122.696966 180.403582 \nL 123.306913 180.843756 \nL 123.91686 180.573406 \nL 124.526807 181.697145 \nL 125.136754 181.423642 \nL 125.746701 180.475203 \nL 126.966596 181.302352 \nL 127.576543 181.043307 \nL 128.18649 179.480774 \nL 128.796437 179.892001 \nL 129.406384 179.011704 \nL 130.016332 180.055519 \nL 131.236226 178.340367 \nL 131.846173 179.361826 \nL 133.066067 178.919999 \nL 133.676015 176.296466 \nL 135.505856 177.495515 \nL 136.115803 178.463076 \nL 136.72575 177.107799 \nL 137.335698 176.347058 \nL 138.555592 177.112564 \nL 140.385433 176.568387 \nL 140.995381 176.937123 \nL 142.215275 176.585674 \nL 143.435169 177.299999 \nL 144.045116 177.125542 \nL 144.655064 175.914965 \nL 145.265011 175.238183 \nL 145.874958 175.083162 \nL 146.484905 175.438211 \nL 147.094852 174.276006 \nL 147.704799 173.631181 \nL 148.314747 174.485695 \nL 148.924694 174.341745 \nL 149.534641 173.710365 \nL 150.754535 174.404687 \nL 151.364482 175.223665 \nL 151.97443 175.555384 \nL 152.584377 176.355007 \nL 153.194324 175.735864 \nL 153.804271 176.52329 \nL 154.414218 175.911427 \nL 155.634113 177.452223 \nL 156.24406 177.299999 \nL 156.854007 177.600401 \nL 157.463954 177.449211 \nL 158.683848 178.036367 \nL 159.293796 178.763224 \nL 159.903743 178.608466 \nL 160.51369 178.889046 \nL 161.733584 177.727926 \nL 162.343531 176.733 \nL 162.953479 177.440877 \nL 164.173373 177.99571 \nL 164.78332 177.85317 \nL 166.003214 178.393018 \nL 166.613162 179.065511 \nL 167.223109 179.325002 \nL 167.833056 179.178821 \nL 169.05295 180.483161 \nL 169.662897 179.93721 \nL 170.882792 180.42828 \nL 171.492739 179.503201 \nL 172.712633 180.759665 \nL 173.32258 180.995057 \nL 174.542475 180.702006 \nL 175.152422 181.309723 \nL 176.982263 180.874568 \nL 177.592211 179.997079 \nL 178.202158 180.592265 \nL 178.812105 180.089524 \nL 180.031999 181.260003 \nL 180.641946 180.761683 \nL 181.861841 181.198126 \nL 182.471788 181.76549 \nL 183.691682 182.18493 \nL 184.301629 182.044286 \nL 184.911577 181.559694 \nL 186.131471 181.288949 \nL 186.741418 180.815398 \nL 187.351365 181.023587 \nL 188.57126 180.763447 \nL 189.181207 179.63471 \nL 189.791154 180.176495 \nL 191.011048 179.929565 \nL 191.620995 180.135007 \nL 192.84089 181.188007 \nL 193.450837 181.384557 \nL 194.060784 181.258309 \nL 194.670731 180.494365 \nL 195.280678 180.37346 \nL 195.890626 179.93721 \nL 197.11052 180.330969 \nL 197.720467 179.900923 \nL 198.330414 179.785484 \nL 198.940361 180.289643 \nL 199.550309 180.173483 \nL 200.770203 180.554528 \nL 201.38015 180.438754 \nL 201.990097 180.626402 \nL 202.600044 180.210267 \nL 203.209992 180.097534 \nL 203.819939 180.284209 \nL 204.429886 180.172145 \nL 205.039833 180.356873 \nL 206.259727 180.135007 \nL 206.869675 180.317515 \nL 207.479622 180.207692 \nL 208.089569 179.519747 \nL 208.699516 179.125938 \nL 209.309463 179.309621 \nL 209.91941 179.205882 \nL 210.529358 178.818328 \nL 211.139305 178.717498 \nL 211.749252 178.899833 \nL 212.359199 179.361826 \nL 212.969146 178.980001 \nL 214.189041 179.33657 \nL 214.798988 179.236105 \nL 216.018882 180.135007 \nL 216.628829 180.032535 \nL 217.238776 180.203038 \nL 217.848724 180.643273 \nL 218.458671 180.539999 \nL 219.068618 180.168617 \nL 219.678565 180.06803 \nL 220.288512 180.235066 \nL 220.898459 180.666561 \nL 221.508407 180.829968 \nL 222.118354 180.728377 \nL 222.728301 180.364873 \nL 223.338248 179.480774 \nL 223.948195 179.906895 \nL 224.558142 179.810384 \nL 226.387984 180.295473 \nL 226.997931 180.198952 \nL 227.607878 180.357978 \nL 228.217825 180.261944 \nL 229.43772 179.568007 \nL 231.877508 180.197086 \nL 232.487456 180.104074 \nL 233.097403 180.258264 \nL 233.70735 180.165707 \nL 234.317297 180.318569 \nL 234.927244 179.982581 \nL 236.147139 180.286338 \nL 236.757086 179.712769 \nL 237.367033 180.104946 \nL 237.97698 180.254796 \nL 238.586927 180.64232 \nL 239.196874 180.551334 \nL 240.416769 181.316252 \nL 241.636663 181.601384 \nL 242.24661 181.508666 \nL 242.856557 181.183567 \nL 243.466505 181.557342 \nL 244.076452 181.002864 \nL 245.296346 181.284325 \nL 245.906293 180.965462 \nL 246.51624 181.333691 \nL 247.126188 181.471913 \nL 248.346082 181.293491 \nL 248.956029 180.754576 \nL 249.565976 181.117432 \nL 250.175923 181.254082 \nL 250.785871 181.612922 \nL 251.395818 181.747058 \nL 252.615712 181.570907 \nL 253.225659 181.924081 \nL 253.835606 181.836005 \nL 254.445554 181.529714 \nL 255.055501 181.443463 \nL 255.665448 181.575145 \nL 256.885342 180.972001 \nL 257.495289 180.88861 \nL 258.105237 180.591109 \nL 259.325131 180.42828 \nL 260.545025 180.691401 \nL 261.154972 181.033047 \nL 261.76492 180.951268 \nL 263.594761 181.33509 \nL 264.204708 180.837247 \nL 264.814655 181.172201 \nL 265.424603 181.091497 \nL 266.03455 180.805097 \nL 266.644497 180.931548 \nL 267.254444 180.852293 \nL 268.474338 180.287788 \nL 269.084286 180.617378 \nL 270.30418 180.866883 \nL 270.914127 180.78923 \nL 271.524074 181.113457 \nL 272.134021 181.035531 \nL 272.743969 181.357132 \nL 273.353916 181.278952 \nL 275.183757 180.455483 \nL 276.403652 180.306575 \nL 277.623546 180.549286 \nL 279.453387 180.328302 \nL 280.063335 180.448213 \nL 280.673282 180.759665 \nL 281.283229 180.494365 \nL 282.503123 181.111764 \nL 283.11307 180.84771 \nL 283.723018 181.153708 \nL 284.332965 180.891003 \nL 284.942912 180.818227 \nL 285.552859 180.933819 \nL 286.772753 180.78923 \nL 287.382701 181.090361 \nL 287.992648 181.203935 \nL 289.212542 181.059458 \nL 289.822489 180.803414 \nL 290.432436 180.916542 \nL 291.042384 181.212452 \nL 292.262278 181.434693 \nL 292.872225 181.181072 \nL 293.482172 181.110243 \nL 294.092119 181.401702 \nL 294.702067 181.511139 \nL 295.312014 181.800003 \nL 295.921961 181.907808 \nL 296.531908 182.194106 \nL 297.141855 182.121736 \nL 298.971697 181.375311 \nL 299.581644 181.482548 \nL 300.191591 181.060421 \nL 302.63138 180.78923 \nL 303.851274 181.002864 \nL 305.071168 180.868941 \nL 305.681116 180.457977 \nL 306.90101 180.670586 \nL 307.510957 180.434171 \nL 309.950746 180.177316 \nL 310.560693 179.945068 \nL 311.17064 179.54555 \nL 312.390534 179.757937 \nL 313.000482 179.696171 \nL 313.610429 179.801472 \nL 314.220376 180.072623 \nL 314.830323 179.844593 \nL 315.44027 179.452122 \nL 316.050217 179.722137 \nL 317.270112 179.600877 \nL 318.490006 179.80789 \nL 319.099953 180.07382 \nL 319.7099 180.012926 \nL 320.319848 180.114709 \nL 320.929795 179.730004 \nL 321.539742 179.993592 \nL 322.149689 179.933459 \nL 322.759636 180.034471 \nL 323.369583 179.814055 \nL 323.979531 179.754784 \nL 324.589478 179.53606 \nL 325.199425 179.796393 \nL 325.809372 179.896544 \nL 326.419319 180.154828 \nL 327.029266 180.095446 \nL 327.639214 180.352067 \nL 328.249161 179.977501 \nL 329.469055 179.547101 \nL 330.079002 179.646208 \nL 330.688949 179.900923 \nL 331.908844 179.785484 \nL 333.128738 179.052543 \nL 333.738685 178.997145 \nL 334.95858 178.579915 \nL 335.568527 178.066215 \nL 336.178474 178.013534 \nL 336.788421 178.113634 \nL 337.398368 177.604436 \nL 338.008315 177.553124 \nL 338.618263 177.350511 \nL 339.838157 177.249711 \nL 340.448104 177.350176 \nL 341.058051 177.299999 \nL 341.667998 177.399917 \nL 342.277946 177.648925 \nL 342.887893 177.747635 \nL 344.107787 177.646643 \nL 344.717734 177.892944 \nL 345.327681 177.842352 \nL 345.937629 178.087162 \nL 346.547576 178.036367 \nL 347.76747 178.228709 \nL 348.987365 177.835366 \nL 349.597312 178.077043 \nL 350.207259 178.026928 \nL 351.427153 178.506389 \nL 352.0371 178.311208 \nL 352.647048 178.261021 \nL 353.256995 178.354886 \nL 353.866942 178.591899 \nL 354.476889 178.684679 \nL 355.086836 178.634117 \nL 355.696783 178.869062 \nL 356.306731 178.960676 \nL 356.916678 179.193948 \nL 357.526625 178.859248 \nL 358.136572 178.667403 \nL 358.746519 178.61751 \nL 359.356466 178.849565 \nL 359.966414 178.940084 \nL 360.576361 178.749648 \nL 361.796255 178.650562 \nL 362.406202 178.46189 \nL 363.016149 178.413133 \nL 363.626097 178.086858 \nL 364.236044 177.900487 \nL 364.845991 177.576585 \nL 366.065885 177.483643 \nL 366.675832 177.299999 \nL 367.895727 177.20873 \nL 369.115621 177.390904 \nL 369.725568 177.617525 \nL 369.725568 177.617525 \n\" clip-path=\"url(#p8984605c8a)\" style=\"fill: none; stroke: #ff7f0e; stroke-width: 1.5; stroke-linecap: square\"/>\n   </g>\n   <g id=\"line2d_16\">\n    <path d=\"M 65.361932 18.54 \nL 65.971879 86.579995 \nL 67.191773 86.579995 \nL 67.80172 113.79601 \nL 68.411668 109.259994 \nL 69.021615 115.739993 \nL 69.631562 120.600003 \nL 70.241509 116.819993 \nL 70.851456 127.404007 \nL 71.461403 129.878186 \nL 72.071351 120.600003 \nL 72.681298 128.450772 \nL 73.291245 125.460003 \nL 74.511139 146.114999 \nL 75.731034 139.500002 \nL 76.340981 133.133688 \nL 76.950928 134.208 \nL 78.170822 142.249094 \nL 78.780769 139.8287 \nL 79.390717 146.114999 \nL 80.000664 149.1768 \nL 80.610611 149.386155 \nL 81.220558 154.620001 \nL 82.440452 154.620001 \nL 83.660347 150.230328 \nL 84.880241 150.496369 \nL 85.490188 154.620001 \nL 86.710083 154.620001 \nL 87.32003 156.458927 \nL 87.929977 159.991582 \nL 89.149871 159.723006 \nL 89.759819 162.917564 \nL 90.369766 159.480001 \nL 90.979713 159.366984 \nL 91.58966 162.351822 \nL 92.199607 157.644005 \nL 92.809554 157.578265 \nL 94.029449 160.290006 \nL 94.639396 158.785719 \nL 95.249343 160.063202 \nL 95.85929 157.288236 \nL 96.469237 157.236924 \nL 97.079185 159.755095 \nL 98.299079 162.042549 \nL 100.12892 161.658625 \nL 100.738868 162.692545 \nL 101.348815 161.424005 \nL 101.958762 161.312458 \nL 102.568709 163.399358 \nL 103.178656 164.34 \nL 103.788603 164.188132 \nL 104.398551 162.994152 \nL 106.228392 165.626476 \nL 107.448286 165.312002 \nL 108.058234 167.078031 \nL 108.668181 166.905003 \nL 110.498022 169.135203 \nL 111.107969 168.94421 \nL 111.717917 169.641816 \nL 112.327864 167.704616 \nL 114.157705 172.260007 \nL 115.3776 173.474456 \nL 115.987547 172.44 \nL 116.597494 173.030825 \nL 117.207441 172.816746 \nL 118.427335 173.949548 \nL 119.037283 173.732366 \nL 121.477071 175.836775 \nL 122.087018 175.611066 \nL 122.696966 176.822525 \nL 123.306913 173.756253 \nL 123.91686 174.260412 \nL 124.526807 173.365718 \nL 125.136754 174.550908 \nL 125.746701 175.032002 \nL 126.356649 174.156237 \nL 126.966596 175.298823 \nL 127.576543 175.758646 \nL 130.016332 172.424863 \nL 130.626279 173.52 \nL 131.236226 173.346607 \nL 133.066067 174.667503 \nL 133.676015 175.694336 \nL 134.285962 176.106314 \nL 135.505856 175.735864 \nL 136.115803 176.136923 \nL 136.72575 175.954577 \nL 137.335698 176.347058 \nL 137.945645 176.166001 \nL 139.165539 176.928201 \nL 139.775486 176.193659 \nL 140.995381 176.937123 \nL 142.825222 176.414065 \nL 144.045116 175.032002 \nL 145.874958 174.571581 \nL 146.484905 173.914924 \nL 147.094852 173.771998 \nL 147.704799 174.131478 \nL 148.314747 174.982342 \nL 148.924694 174.834783 \nL 149.534641 175.66835 \nL 150.144588 176.004004 \nL 150.754535 175.852348 \nL 151.364482 176.661126 \nL 151.97443 176.506997 \nL 153.194324 175.266622 \nL 153.804271 174.193152 \nL 154.414218 172.671427 \nL 155.634113 172.429131 \nL 156.24406 172.764004 \nL 156.854007 172.643839 \nL 157.463954 173.420528 \nL 158.073901 173.742353 \nL 158.683848 173.176367 \nL 159.293796 173.934583 \nL 159.903743 173.810769 \nL 160.51369 173.255165 \nL 161.123637 173.137221 \nL 161.733584 173.448684 \nL 162.343531 173.331003 \nL 162.953479 173.637396 \nL 163.563426 172.680004 \nL 164.173373 172.569208 \nL 166.003214 173.474456 \nL 167.223109 173.250005 \nL 167.833056 173.542366 \nL 168.443003 173.030825 \nL 170.272845 173.891443 \nL 170.882792 173.780697 \nL 171.492739 173.282398 \nL 172.102686 173.949548 \nL 173.32258 173.732366 \nL 173.932528 174.385808 \nL 174.542475 174.653999 \nL 175.152422 174.543314 \nL 175.762369 174.06 \nL 176.372316 174.697382 \nL 177.592211 174.480332 \nL 178.202158 174.007745 \nL 178.812105 174.267915 \nL 179.422052 173.801492 \nL 180.031999 172.98 \nL 180.641946 173.599579 \nL 181.251894 173.143984 \nL 181.861841 173.047504 \nL 182.471788 173.304561 \nL 183.691682 172.415079 \nL 186.741418 173.671199 \nL 187.351365 173.576422 \nL 187.961312 174.156237 \nL 188.57126 174.06 \nL 189.791154 175.197953 \nL 190.401101 175.098066 \nL 191.011048 175.32783 \nL 191.620995 175.228268 \nL 192.230943 175.455213 \nL 192.84089 174.708008 \nL 193.450837 174.935268 \nL 194.060784 175.481321 \nL 194.670731 175.38338 \nL 195.280678 175.604304 \nL 196.500573 175.410005 \nL 197.720467 174.595052 \nL 198.940361 175.650547 \nL 200.160256 176.074052 \nL 200.770203 176.588077 \nL 201.38015 176.490005 \nL 201.990097 176.090406 \nL 202.600044 176.296466 \nL 203.209992 176.200969 \nL 203.819939 176.703162 \nL 204.429886 176.903848 \nL 206.259727 176.615695 \nL 206.869675 175.93726 \nL 208.089569 176.334892 \nL 208.699516 176.819494 \nL 209.309463 176.438733 \nL 209.91941 176.632941 \nL 210.529358 176.54084 \nL 211.139305 176.733 \nL 211.749252 176.641244 \nL 212.359199 176.269091 \nL 212.969146 176.180002 \nL 213.579093 176.370499 \nL 214.798988 176.193659 \nL 215.408935 175.830854 \nL 216.018882 175.745324 \nL 216.628829 175.387233 \nL 217.848724 175.221759 \nL 218.458671 174.870005 \nL 219.068618 174.252099 \nL 219.678565 173.906935 \nL 220.288512 174.364943 \nL 220.898459 174.287817 \nL 221.508407 174.476033 \nL 222.118354 174.926518 \nL 222.728301 175.11081 \nL 223.338248 175.032002 \nL 223.948195 174.171729 \nL 225.16809 175.057876 \nL 226.387984 174.903625 \nL 226.997931 175.083162 \nL 228.217825 174.930452 \nL 229.43772 175.788008 \nL 230.657614 175.632358 \nL 231.877508 175.975625 \nL 232.487456 176.392804 \nL 233.097403 176.067391 \nL 233.70735 176.235603 \nL 234.927244 176.080653 \nL 235.537191 176.246999 \nL 236.147139 176.170036 \nL 236.757086 176.334892 \nL 237.367033 175.777321 \nL 237.97698 175.702822 \nL 238.586927 175.390112 \nL 239.196874 174.841677 \nL 239.806822 175.008297 \nL 241.026716 173.925469 \nL 241.636663 174.093518 \nL 242.24661 174.494232 \nL 243.466505 174.823001 \nL 244.686399 174.686037 \nL 245.296346 174.848115 \nL 246.51624 175.625636 \nL 247.126188 175.782948 \nL 248.956029 175.572721 \nL 249.565976 175.279012 \nL 252.005765 175.009838 \nL 252.615712 175.164546 \nL 253.225659 175.098066 \nL 253.835606 175.251485 \nL 254.445554 174.966374 \nL 255.665448 175.271124 \nL 256.885342 176.004004 \nL 257.495289 175.936327 \nL 258.715184 176.230189 \nL 260.545025 176.028225 \nL 261.154972 176.384349 \nL 261.76492 176.106314 \nL 262.374867 176.460004 \nL 262.984814 176.602159 \nL 264.814655 176.401098 \nL 265.424603 176.541702 \nL 266.03455 176.887636 \nL 266.644497 176.820366 \nL 267.254444 177.16338 \nL 267.864391 177.299999 \nL 268.474338 177.2321 \nL 269.084286 177.570806 \nL 269.694233 177.705002 \nL 270.30418 177.434602 \nL 270.914127 177.367108 \nL 271.524074 177.500706 \nL 272.743969 177.36651 \nL 273.353916 177.498952 \nL 273.963863 177.03551 \nL 275.183757 177.299999 \nL 275.793704 177.037801 \nL 276.403652 176.973197 \nL 278.233493 177.948008 \nL 281.893176 178.70158 \nL 282.503123 178.443529 \nL 283.723018 178.310813 \nL 284.332965 178.623005 \nL 284.942912 178.179556 \nL 285.552859 178.114476 \nL 286.162806 177.67488 \nL 286.772753 177.611543 \nL 287.382701 177.36214 \nL 289.212542 177.731413 \nL 289.822489 177.484393 \nL 290.432436 177.422597 \nL 292.262278 176.691958 \nL 293.482172 176.937123 \nL 294.092119 176.877771 \nL 295.312014 177.120006 \nL 295.921961 176.522063 \nL 296.531908 176.464425 \nL 297.141855 176.585674 \nL 297.751802 176.350059 \nL 298.36175 176.293323 \nL 298.971697 176.059686 \nL 300.191591 176.30114 \nL 300.801538 176.596745 \nL 302.021433 176.833576 \nL 303.241327 176.719951 \nL 303.851274 176.490005 \nL 304.461221 176.607482 \nL 305.071168 176.206302 \nL 305.681116 176.323901 \nL 306.291063 176.269091 \nL 307.510957 176.844121 \nL 308.120904 176.788429 \nL 308.730851 176.562902 \nL 309.340799 176.677855 \nL 309.950746 176.453738 \nL 310.560693 176.568387 \nL 311.780587 177.132 \nL 312.390534 176.741385 \nL 313.610429 176.299416 \nL 317.270112 175.985217 \nL 317.880059 176.097686 \nL 318.490006 176.373176 \nL 319.7099 176.269091 \nL 320.319848 176.055042 \nL 320.929795 176.328008 \nL 321.539742 176.276442 \nL 322.149689 176.547583 \nL 323.369583 176.444157 \nL 323.979531 176.712986 \nL 324.589478 176.820852 \nL 325.199425 177.087542 \nL 326.419319 177.299999 \nL 327.029266 177.089022 \nL 328.249161 177.615 \nL 328.859108 177.561894 \nL 329.469055 177.822581 \nL 330.079002 177.769241 \nL 330.688949 177.404043 \nL 331.298897 177.663301 \nL 331.908844 177.610691 \nL 332.518791 177.713306 \nL 333.738685 178.225718 \nL 334.348632 178.326244 \nL 334.95858 178.11915 \nL 336.178474 178.013534 \nL 336.788421 177.503413 \nL 337.398368 177.756649 \nL 338.008315 177.705002 \nL 338.618263 177.956666 \nL 339.22821 177.753607 \nL 340.448104 178.253366 \nL 341.058051 178.201192 \nL 341.667998 177.84952 \nL 342.887893 177.747635 \nL 344.107787 177.943759 \nL 344.717734 177.892944 \nL 345.937629 178.087162 \nL 347.157523 177.985795 \nL 347.76747 178.082072 \nL 348.377417 178.324257 \nL 348.987365 177.981374 \nL 349.597312 177.785656 \nL 351.427153 178.072086 \nL 352.647048 177.396105 \nL 353.256995 177.491804 \nL 353.866942 177.730633 \nL 354.476889 177.681977 \nL 355.086836 177.77647 \nL 356.306731 177.679584 \nL 357.526625 177.866999 \nL 358.746519 177.770539 \nL 359.356466 177.581745 \nL 359.966414 177.253148 \nL 361.796255 177.11372 \nL 362.406202 177.346476 \nL 363.016149 177.160865 \nL 363.626097 177.114856 \nL 364.236044 177.346192 \nL 367.28578 177.117096 \nL 367.895727 177.345634 \nL 368.505674 177.16338 \nL 369.725568 177.34536 \nL 369.725568 177.34536 \n\" clip-path=\"url(#p8984605c8a)\" style=\"fill: none; stroke: #2ca02c; stroke-width: 1.5; stroke-linecap: square\"/>\n   </g>\n   <g id=\"line2d_17\">\n    <path d=\"M 65.361932 154.620001 \nL 65.971879 120.600003 \nL 66.581826 154.620001 \nL 67.191773 137.610007 \nL 67.80172 141.012004 \nL 68.411668 143.280002 \nL 69.021615 144.900002 \nL 69.631562 163.125003 \nL 70.241509 177.299999 \nL 70.851456 168.227998 \nL 71.461403 148.434552 \nL 72.681298 149.386155 \nL 73.291245 144.900002 \nL 73.901192 136.475998 \nL 74.511139 146.114999 \nL 75.121086 150.617648 \nL 75.731034 143.280002 \nL 76.340981 151.038954 \nL 76.950928 154.620001 \nL 77.560875 161.100001 \nL 78.780769 166.453048 \nL 79.390717 165.96 \nL 80.000664 168.227998 \nL 80.610611 167.704616 \nL 81.220558 169.74 \nL 83.0504 168.227998 \nL 83.660347 167.789031 \nL 84.270294 171.630005 \nL 84.880241 169.052735 \nL 85.490188 168.628235 \nL 87.32003 173.009189 \nL 88.539924 175.555384 \nL 89.149871 171.630005 \nL 90.369766 174.06 \nL 90.979713 173.607913 \nL 91.58966 176.269091 \nL 92.199607 177.299999 \nL 94.029449 184.387503 \nL 95.249343 185.918403 \nL 95.85929 187.97294 \nL 97.079185 184.146799 \nL 97.689132 183.600006 \nL 98.299079 181.836005 \nL 98.909026 182.565002 \nL 99.518973 182.074742 \nL 100.12892 183.947593 \nL 100.738868 183.45051 \nL 101.348815 185.238002 \nL 101.958762 185.851477 \nL 102.568709 184.250326 \nL 103.178656 184.859999 \nL 103.788603 186.513751 \nL 104.398551 187.069851 \nL 105.008498 184.516366 \nL 105.618445 186.101195 \nL 106.838339 185.188697 \nL 107.448286 185.724003 \nL 108.058234 182.410984 \nL 108.668181 183.915007 \nL 109.278128 184.44576 \nL 109.888075 182.203788 \nL 110.498022 183.650406 \nL 111.107969 184.16369 \nL 111.717917 183.779999 \nL 112.937811 184.764309 \nL 115.3776 183.311569 \nL 115.987547 182.159999 \nL 116.597494 181.836005 \nL 117.207441 179.146053 \nL 117.817388 179.646208 \nL 118.427335 179.361826 \nL 119.037283 177.554837 \nL 120.257177 177.050769 \nL 120.867124 177.546523 \nL 122.696966 174.673901 \nL 124.526807 174.06 \nL 125.136754 174.550908 \nL 125.746701 175.712403 \nL 126.356649 175.503565 \nL 126.966596 176.632941 \nL 127.576543 175.758646 \nL 128.18649 176.863851 \nL 128.796437 177.299999 \nL 130.016332 176.876078 \nL 130.626279 175.410005 \nL 131.236226 175.843487 \nL 132.45612 175.461084 \nL 133.066067 174.06 \nL 133.676015 174.490096 \nL 134.285962 173.718952 \nL 134.895909 174.736173 \nL 136.72575 174.224744 \nL 137.335698 174.631764 \nL 137.945645 173.898003 \nL 139.775486 173.427808 \nL 143.435169 175.717675 \nL 144.655064 175.395577 \nL 145.265011 175.753637 \nL 145.874958 175.594743 \nL 147.704799 178.133831 \nL 149.534641 177.626335 \nL 150.754535 179.230215 \nL 151.364482 178.098598 \nL 151.97443 178.886014 \nL 152.584377 178.717498 \nL 153.194324 178.082072 \nL 153.804271 178.387401 \nL 154.414218 179.151426 \nL 155.634113 179.735439 \nL 156.24406 179.1144 \nL 156.854007 178.95219 \nL 157.463954 179.239735 \nL 158.073901 178.634117 \nL 158.683848 178.919999 \nL 159.293796 178.763224 \nL 159.903743 179.044615 \nL 160.51369 178.022294 \nL 161.733584 178.583778 \nL 162.343531 179.284508 \nL 162.953479 178.286094 \nL 163.563426 178.140005 \nL 164.173373 178.413133 \nL 165.393267 178.124726 \nL 167.223109 176.490005 \nL 169.05295 177.299999 \nL 169.662897 177.168145 \nL 170.272845 176.251217 \nL 170.882792 176.908968 \nL 171.492739 177.170406 \nL 172.102686 176.655682 \nL 172.712633 176.531188 \nL 173.32258 176.790345 \nL 173.932528 176.286368 \nL 174.542475 176.166001 \nL 175.152422 176.79879 \nL 175.762369 177.050769 \nL 176.372316 176.928201 \nL 177.592211 177.422597 \nL 178.202158 176.934193 \nL 178.812105 176.81487 \nL 179.422052 177.058728 \nL 180.031999 176.940003 \nL 180.641946 177.538737 \nL 181.861841 178.008749 \nL 182.471788 176.829947 \nL 183.081735 177.06619 \nL 183.691682 176.951085 \nL 184.911577 177.415125 \nL 186.131471 177.18603 \nL 187.351365 176.284482 \nL 188.57126 177.411729 \nL 189.181207 177.633534 \nL 189.791154 178.185072 \nL 191.620995 178.82654 \nL 192.230943 178.38517 \nL 193.450837 178.804833 \nL 194.060784 177.727926 \nL 194.670731 177.619441 \nL 195.280678 176.876078 \nL 195.890626 177.089022 \nL 196.500573 176.669998 \nL 197.720467 177.091932 \nL 198.330414 176.367944 \nL 200.160256 176.993515 \nL 201.38015 176.186258 \nL 202.600044 176.597526 \nL 203.209992 176.500711 \nL 203.819939 175.8079 \nL 204.429886 176.309606 \nL 206.259727 176.908968 \nL 206.869675 176.521293 \nL 208.699516 176.242883 \nL 209.91941 176.632941 \nL 210.529358 177.110212 \nL 212.969146 177.860003 \nL 213.579093 177.485904 \nL 214.189041 177.392576 \nL 214.798988 177.85317 \nL 215.408935 177.759113 \nL 216.018882 177.94016 \nL 216.628829 177.846509 \nL 217.238776 178.025762 \nL 217.848724 177.932516 \nL 218.458671 178.110005 \nL 219.068618 178.555025 \nL 220.288512 178.900949 \nL 220.898459 178.806101 \nL 221.508407 178.44724 \nL 222.728301 178.788652 \nL 223.948195 179.646208 \nL 226.387984 179.268458 \nL 226.997931 178.919999 \nL 227.607878 179.083821 \nL 228.217825 179.500301 \nL 229.43772 179.315999 \nL 230.657614 179.63471 \nL 231.267561 179.293846 \nL 231.877508 179.203803 \nL 232.487456 178.866984 \nL 233.097403 179.272179 \nL 234.927244 179.738714 \nL 235.537191 178.677004 \nL 236.147139 179.07566 \nL 236.757086 178.988943 \nL 237.367033 179.143255 \nL 237.97698 178.817324 \nL 239.196874 179.12392 \nL 239.806822 178.564393 \nL 240.416769 178.245002 \nL 241.026716 178.398685 \nL 241.636663 178.316693 \nL 242.24661 178.001449 \nL 243.466505 177.841845 \nL 244.076452 177.994291 \nL 244.686399 178.376339 \nL 245.906293 178.21637 \nL 246.51624 177.223898 \nL 247.126188 176.693185 \nL 247.736135 176.619598 \nL 248.346082 176.772561 \nL 248.956029 177.149804 \nL 249.565976 177.299999 \nL 250.175923 177.001586 \nL 250.785871 177.151284 \nL 251.395818 177.077647 \nL 252.005765 177.226129 \nL 252.615712 177.59455 \nL 253.835606 177.885289 \nL 255.055501 178.608466 \nL 255.665448 178.749202 \nL 256.885342 178.596005 \nL 257.495289 178.95076 \nL 258.715184 178.797736 \nL 259.325131 178.935238 \nL 259.935078 178.859248 \nL 261.154972 178.286094 \nL 261.76492 178.634117 \nL 262.984814 178.905045 \nL 263.594761 178.621839 \nL 264.204708 178.548445 \nL 264.814655 178.060609 \nL 265.424603 177.782553 \nL 266.03455 177.712363 \nL 266.644497 178.053714 \nL 267.254444 178.188073 \nL 268.474338 178.046952 \nL 269.084286 178.180124 \nL 269.694233 177.907503 \nL 270.30418 178.242204 \nL 270.914127 177.971012 \nL 271.524074 178.102836 \nL 272.134021 178.433998 \nL 273.353916 177.896847 \nL 274.57381 177.761515 \nL 275.793704 178.021047 \nL 276.403652 177.953604 \nL 277.623546 178.2098 \nL 278.233493 178.142398 \nL 278.84344 177.881538 \nL 279.453387 178.202044 \nL 280.673282 178.068821 \nL 281.283229 178.19443 \nL 282.503123 177.681176 \nL 283.11307 177.996876 \nL 283.723018 177.363174 \nL 284.332965 176.922007 \nL 285.552859 176.79879 \nL 286.162806 177.112564 \nL 287.382701 176.989318 \nL 287.992648 177.299999 \nL 288.602595 177.052807 \nL 289.212542 177.176743 \nL 290.432436 176.687031 \nL 291.042384 176.810947 \nL 291.652331 176.568387 \nL 292.262278 176.691958 \nL 292.872225 176.632941 \nL 293.482172 176.392804 \nL 294.092119 176.334892 \nL 294.702067 175.735864 \nL 295.312014 175.500006 \nL 295.921961 175.624439 \nL 296.531908 175.569163 \nL 297.141855 175.335596 \nL 297.751802 175.281364 \nL 298.36175 175.405067 \nL 298.971697 175.705316 \nL 299.581644 175.827275 \nL 300.191591 175.772333 \nL 300.801538 175.541859 \nL 301.411485 175.137222 \nL 302.021433 175.259383 \nL 303.241327 175.153809 \nL 304.461221 175.395577 \nL 305.071168 175.342846 \nL 305.681116 175.462635 \nL 306.291063 175.066362 \nL 306.90101 175.186253 \nL 308.120904 174.742104 \nL 310.560693 175.217723 \nL 311.17064 175.503565 \nL 312.390534 175.06552 \nL 313.000482 175.182461 \nL 313.610429 174.965299 \nL 314.220376 174.582835 \nL 314.830323 174.534148 \nL 316.050217 174.767766 \nL 316.660165 174.554243 \nL 317.270112 174.506095 \nL 317.880059 174.622122 \nL 318.490006 174.246928 \nL 320.319848 174.593562 \nL 320.929795 174.546001 \nL 321.539742 174.337061 \nL 322.149689 174.612795 \nL 322.759636 174.565538 \nL 323.369583 174.839436 \nL 324.589478 175.063949 \nL 325.809372 174.968411 \nL 326.419319 174.762382 \nL 327.029266 175.032002 \nL 328.249161 175.252499 \nL 328.859108 175.519128 \nL 329.469055 175.470969 \nL 330.688949 175.687431 \nL 331.298897 175.639222 \nL 332.518791 176.163415 \nL 333.128738 176.269091 \nL 333.738685 175.911427 \nL 334.348632 176.171131 \nL 336.178474 176.025843 \nL 336.788421 176.130403 \nL 337.398368 176.386711 \nL 338.008315 176.186258 \nL 338.618263 176.441298 \nL 339.22821 176.392804 \nL 340.448104 175.995406 \nL 341.058051 176.248611 \nL 341.667998 175.901237 \nL 342.277946 175.854467 \nL 342.887893 175.509476 \nL 343.49784 175.314883 \nL 344.107787 175.418258 \nL 344.717734 175.372948 \nL 345.327681 175.032002 \nL 345.937629 174.840136 \nL 347.157523 175.340605 \nL 347.76747 175.149317 \nL 348.987365 175.353218 \nL 349.597312 175.30883 \nL 350.207259 175.555384 \nL 351.427153 175.176773 \nL 352.0371 175.133126 \nL 352.647048 175.377966 \nL 353.256995 175.334086 \nL 353.866942 175.146843 \nL 354.476889 175.103622 \nL 355.086836 175.346475 \nL 355.696783 175.017736 \nL 356.306731 175.117411 \nL 356.916678 175.358713 \nL 358.136572 175.272473 \nL 358.746519 175.51195 \nL 359.356466 175.468698 \nL 359.966414 175.566202 \nL 360.576361 175.803591 \nL 361.186308 175.760004 \nL 361.796255 175.576878 \nL 363.626097 175.448572 \nL 364.236044 175.544728 \nL 364.845991 175.502196 \nL 366.065885 175.14219 \nL 366.675832 175.100732 \nL 367.28578 175.196614 \nL 368.505674 175.113984 \nL 369.115621 175.209257 \nL 369.725568 174.895919 \nL 369.725568 174.895919 \n\" clip-path=\"url(#p8984605c8a)\" style=\"fill: none; stroke: #d62728; stroke-width: 1.5; stroke-linecap: square\"/>\n   </g>\n   <g id=\"line2d_18\">\n    <path d=\"M 65.361932 222.660002 \nL 65.971879 222.660002 \nL 66.581826 245.34 \nL 67.191773 239.67 \nL 67.80172 209.052004 \nL 68.411668 188.639999 \nL 69.021615 183.779999 \nL 69.631562 188.639999 \nL 70.241509 192.419998 \nL 70.851456 202.248006 \nL 72.071351 205.650003 \nL 73.291245 217.800002 \nL 73.901192 209.052004 \nL 75.121086 178.634117 \nL 75.731034 184.859999 \nL 76.340981 186.849475 \nL 76.950928 185.238002 \nL 77.560875 187.019999 \nL 78.780769 178.286094 \nL 79.390717 182.970004 \nL 80.000664 181.836005 \nL 80.610611 178.172307 \nL 81.220558 182.340003 \nL 82.440452 185.120697 \nL 83.0504 186.372001 \nL 83.660347 189.737427 \nL 84.880241 187.609091 \nL 85.490188 184.637646 \nL 86.100135 185.724003 \nL 87.32003 184.042704 \nL 88.539924 186.023076 \nL 89.149871 185.238002 \nL 89.759819 179.51269 \nL 90.369766 180.539999 \nL 90.979713 183.101859 \nL 91.58966 177.815454 \nL 92.199607 178.812001 \nL 92.809554 178.286094 \nL 93.419502 179.230215 \nL 94.029449 178.717498 \nL 94.639396 176.837145 \nL 95.249343 179.1144 \nL 95.85929 179.968235 \nL 96.469237 178.172307 \nL 97.079185 173.87661 \nL 97.689132 173.52 \nL 99.518973 176.106314 \nL 100.12892 174.56276 \nL 100.738868 171.91831 \nL 101.348815 172.764004 \nL 101.958762 174.697382 \nL 102.568709 173.276132 \nL 103.178656 170.82 \nL 103.788603 169.503757 \nL 104.398551 170.321538 \nL 105.008498 168.021816 \nL 105.618445 167.821789 \nL 106.228392 168.628235 \nL 106.838339 170.397397 \nL 108.058234 171.869584 \nL 108.668181 170.685002 \nL 109.888075 172.089736 \nL 111.107969 164.467901 \nL 111.717917 163.456368 \nL 112.327864 165.087693 \nL 113.547758 166.527 \nL 114.157705 165.540003 \nL 114.767652 167.066341 \nL 116.597494 166.627059 \nL 117.207441 168.069773 \nL 117.817388 167.915177 \nL 118.427335 166.990908 \nL 119.037283 167.616408 \nL 119.64723 168.984004 \nL 121.477071 170.71549 \nL 122.087018 170.544256 \nL 122.696966 169.660421 \nL 123.306913 170.212506 \nL 124.526807 169.894291 \nL 125.136754 169.052735 \nL 125.746701 170.269202 \nL 127.576543 171.795145 \nL 128.18649 172.938461 \nL 128.796437 172.764004 \nL 129.406384 173.87661 \nL 130.626279 174.780003 \nL 131.236226 174.595052 \nL 131.846173 173.794912 \nL 132.45612 173.622168 \nL 134.285962 174.912638 \nL 134.895909 174.144526 \nL 136.115803 173.810769 \nL 136.72575 174.801355 \nL 137.945645 173.331003 \nL 138.555592 174.300998 \nL 139.165539 174.13967 \nL 139.775486 175.087319 \nL 140.385433 174.92226 \nL 140.995381 174.215518 \nL 142.215275 173.906935 \nL 142.825222 172.693124 \nL 143.435169 173.607913 \nL 144.045116 173.461854 \nL 144.655064 174.356801 \nL 145.265011 174.207275 \nL 145.874958 175.083162 \nL 146.484905 173.914924 \nL 147.094852 173.771998 \nL 147.704799 174.131478 \nL 148.314747 173.492412 \nL 148.924694 173.848698 \nL 149.534641 174.689352 \nL 150.144588 174.546001 \nL 150.754535 173.439579 \nL 151.97443 173.176367 \nL 152.584377 173.52 \nL 153.194324 174.328139 \nL 153.804271 173.727124 \nL 154.414218 173.597145 \nL 155.024165 174.388384 \nL 155.634113 173.799059 \nL 156.24406 174.124807 \nL 156.854007 173.545032 \nL 157.463954 173.420528 \nL 158.073901 174.187059 \nL 158.683848 174.06 \nL 159.293796 173.056649 \nL 159.903743 173.37462 \nL 160.51369 174.121917 \nL 161.123637 173.998488 \nL 161.733584 173.020758 \nL 162.343531 173.331003 \nL 162.953479 174.06 \nL 164.173373 174.65632 \nL 164.78332 175.363904 \nL 167.223109 174.870005 \nL 167.833056 173.944976 \nL 168.443003 173.431063 \nL 169.662897 173.212329 \nL 170.272845 173.891443 \nL 170.882792 174.171729 \nL 171.492739 174.06 \nL 172.102686 172.789777 \nL 173.32258 171.821131 \nL 174.542475 171.630005 \nL 175.152422 170.7842 \nL 175.762369 170.695385 \nL 176.372316 169.863936 \nL 177.592211 170.434707 \nL 178.202158 171.081296 \nL 179.422052 170.906169 \nL 180.031999 171.180007 \nL 180.641946 170.734743 \nL 181.251894 169.937908 \nL 182.471788 170.484255 \nL 183.691682 171.717239 \nL 184.911577 170.8529 \nL 185.521524 171.114551 \nL 187.351365 170.868362 \nL 188.57126 171.378625 \nL 189.181207 171.29647 \nL 190.401101 171.795145 \nL 191.011048 171.71218 \nL 191.620995 170.975772 \nL 192.84089 172.116006 \nL 193.450837 172.355544 \nL 194.670731 173.466761 \nL 196.500573 173.204999 \nL 197.11052 173.432908 \nL 198.330414 174.503834 \nL 198.940361 172.557822 \nL 200.770203 171.401173 \nL 201.38015 171.933752 \nL 202.600044 171.780535 \nL 203.209992 172.304404 \nL 203.819939 171.928429 \nL 204.429886 171.258602 \nL 205.039833 171.186262 \nL 205.64978 170.82 \nL 206.259727 170.750174 \nL 206.869675 171.26498 \nL 208.089569 171.702385 \nL 208.699516 171.630005 \nL 209.309463 170.984055 \nL 210.529358 171.416493 \nL 211.749252 172.40639 \nL 212.969146 172.260007 \nL 214.189041 172.671427 \nL 214.798988 172.598053 \nL 215.408935 172.800737 \nL 216.018882 172.727423 \nL 216.628829 173.201207 \nL 217.238776 172.854725 \nL 218.458671 173.250005 \nL 219.068618 173.714228 \nL 219.678565 173.906935 \nL 220.898459 173.756253 \nL 221.508407 173.946537 \nL 222.118354 173.871632 \nL 222.728301 174.06 \nL 223.338248 174.508619 \nL 223.948195 174.693104 \nL 224.558142 174.097097 \nL 225.16809 173.764333 \nL 225.778037 174.207275 \nL 226.387984 174.390117 \nL 226.997931 174.31579 \nL 227.607878 174.496858 \nL 228.827773 175.360822 \nL 229.43772 175.535999 \nL 230.657614 175.382204 \nL 231.267561 175.555384 \nL 231.877508 175.478979 \nL 232.487456 175.897962 \nL 233.097403 175.820867 \nL 233.70735 176.235603 \nL 234.317297 176.157849 \nL 234.927244 176.32452 \nL 236.757086 176.09362 \nL 237.367033 175.777321 \nL 237.97698 175.942401 \nL 238.586927 175.390112 \nL 239.806822 175.71951 \nL 240.416769 175.646258 \nL 241.026716 175.808934 \nL 241.636663 175.735864 \nL 242.856557 176.057262 \nL 243.466505 175.751883 \nL 244.076452 176.142864 \nL 244.686399 176.069906 \nL 245.296346 175.537702 \nL 245.906293 175.696364 \nL 246.51624 175.625636 \nL 247.126188 175.782948 \nL 247.736135 176.166001 \nL 248.346082 176.320464 \nL 248.956029 176.699208 \nL 250.175923 177.001586 \nL 250.785871 176.482036 \nL 251.395818 176.188235 \nL 252.615712 176.490005 \nL 253.225659 176.419226 \nL 253.835606 176.568387 \nL 254.445554 176.497811 \nL 259.325131 177.655484 \nL 261.76492 177.37022 \nL 262.374867 177.090006 \nL 262.984814 177.020859 \nL 263.594761 177.160865 \nL 264.204708 177.508077 \nL 264.814655 177.645731 \nL 265.424603 177.368943 \nL 266.03455 177.299999 \nL 266.644497 176.614802 \nL 267.254444 176.138677 \nL 267.864391 176.278378 \nL 268.474338 176.620957 \nL 269.084286 176.149079 \nL 270.30418 175.617514 \nL 270.914127 175.957994 \nL 272.134021 175.032002 \nL 273.353916 175.310533 \nL 273.963863 175.646937 \nL 274.57381 175.783607 \nL 275.183757 175.525049 \nL 276.403652 175.796717 \nL 277.013599 175.149317 \nL 277.623546 174.895534 \nL 278.233493 174.837601 \nL 278.84344 175.167699 \nL 280.063335 175.051275 \nL 280.673282 175.185766 \nL 281.283229 174.744507 \nL 283.11307 174.575869 \nL 285.552859 175.107181 \nL 286.162806 175.425618 \nL 286.772753 175.368466 \nL 287.382701 175.498029 \nL 287.992648 175.440989 \nL 289.212542 175.697611 \nL 290.432436 176.319248 \nL 291.652331 176.568387 \nL 292.262278 176.144719 \nL 292.872225 176.087172 \nL 293.482172 176.392804 \nL 294.092119 176.334892 \nL 294.702067 176.457774 \nL 295.312014 176.040006 \nL 295.921961 176.342536 \nL 296.531908 176.285374 \nL 297.141855 176.585674 \nL 297.751802 176.706284 \nL 298.971697 176.59125 \nL 299.581644 176.710908 \nL 300.191591 177.006219 \nL 300.801538 177.124194 \nL 301.411485 177.416909 \nL 302.021433 176.833576 \nL 302.63138 176.602159 \nL 303.241327 176.719951 \nL 304.461221 175.914965 \nL 305.071168 176.033609 \nL 305.681116 175.979397 \nL 306.291063 176.09728 \nL 306.90101 175.700409 \nL 307.510957 175.647444 \nL 308.120904 175.765266 \nL 308.730851 175.712403 \nL 309.340799 175.829475 \nL 309.950746 176.115226 \nL 311.17064 176.345649 \nL 311.780587 176.292005 \nL 312.390534 176.406208 \nL 313.000482 176.352685 \nL 314.220376 176.911837 \nL 314.830323 177.023414 \nL 315.44027 176.968908 \nL 316.050217 177.244956 \nL 316.660165 177.190177 \nL 317.270112 177.299999 \nL 317.880059 177.245352 \nL 318.490006 177.354526 \nL 319.7099 177.896847 \nL 320.929795 178.110005 \nL 323.369583 177.888402 \nL 323.979531 177.673552 \nL 325.809372 177.51197 \nL 326.419319 177.617211 \nL 327.029266 177.563729 \nL 327.639214 177.35263 \nL 328.249161 177.299999 \nL 328.859108 177.404763 \nL 329.469055 177.665806 \nL 330.079002 177.299999 \nL 331.908844 176.678636 \nL 332.518791 176.93836 \nL 333.128738 177.042272 \nL 333.738685 176.991427 \nL 335.568527 177.299999 \nL 336.178474 177.249032 \nL 336.788421 177.503413 \nL 337.398368 177.299999 \nL 338.008315 177.553124 \nL 338.618263 177.350511 \nL 339.22821 177.602398 \nL 339.838157 177.55144 \nL 340.448104 177.199646 \nL 341.058051 177.149804 \nL 341.667998 177.399917 \nL 342.887893 177.598423 \nL 343.49784 177.548145 \nL 344.107787 177.200964 \nL 344.717734 177.448238 \nL 347.76747 177.202242 \nL 348.377417 177.299999 \nL 348.987365 177.54335 \nL 349.597312 177.494268 \nL 350.207259 177.299999 \nL 350.817206 177.251648 \nL 351.427153 177.34826 \nL 352.0371 177.588923 \nL 352.647048 177.540257 \nL 353.256995 177.635643 \nL 353.866942 177.443544 \nL 354.476889 177.395496 \nL 355.086836 177.061769 \nL 356.306731 177.25255 \nL 356.916678 176.637118 \nL 357.526625 176.87475 \nL 358.746519 176.782406 \nL 359.356466 176.877396 \nL 360.576361 176.78561 \nL 361.796255 177.253432 \nL 362.406202 176.928201 \nL 363.016149 176.743443 \nL 363.626097 176.976006 \nL 364.236044 177.069049 \nL 365.455938 177.530027 \nL 366.065885 177.483643 \nL 367.28578 177.665806 \nL 367.895727 177.482538 \nL 368.505674 177.573259 \nL 369.115621 177.390904 \nL 369.725568 177.34536 \nL 369.725568 177.34536 \n\" clip-path=\"url(#p8984605c8a)\" style=\"fill: none; stroke: #9467bd; stroke-width: 1.5; stroke-linecap: square\"/>\n   </g>\n   <g id=\"line2d_19\">\n    <path d=\"M 65.361932 222.660002 \nL 65.971879 222.660002 \nL 66.581826 199.979998 \nL 67.191773 205.650003 \nL 67.80172 195.444002 \nL 68.411668 199.979998 \nL 69.021615 193.499998 \nL 69.631562 188.639999 \nL 70.241509 184.859999 \nL 70.851456 181.836005 \nL 72.071351 188.639999 \nL 72.681298 196.490767 \nL 73.291245 193.499998 \nL 73.901192 195.444002 \nL 74.511139 192.892505 \nL 75.731034 203.759998 \nL 76.950928 198.845999 \nL 77.560875 196.739998 \nL 78.170822 197.918182 \nL 78.780769 196.035659 \nL 80.000664 176.392804 \nL 80.610611 178.172307 \nL 81.220558 174.780003 \nL 81.830505 174.06 \nL 82.440452 171.043448 \nL 83.0504 170.496006 \nL 83.660347 174.373551 \nL 84.880241 169.052735 \nL 86.100135 168.227998 \nL 86.710083 171.630005 \nL 87.32003 167.492432 \nL 87.929977 161.782105 \nL 88.539924 163.343077 \nL 89.149871 166.527 \nL 90.979713 170.443254 \nL 91.58966 168.537281 \nL 92.199607 171.252002 \nL 92.809554 170.890434 \nL 93.419502 171.991918 \nL 94.029449 171.630005 \nL 94.639396 172.671427 \nL 95.249343 172.310406 \nL 95.85929 173.297647 \nL 97.079185 177.727926 \nL 97.689132 177.299999 \nL 98.299079 178.124726 \nL 98.909026 180.135007 \nL 99.518973 178.493685 \nL 100.12892 175.735864 \nL 100.738868 177.68441 \nL 101.348815 176.166001 \nL 101.958762 178.043606 \nL 102.568709 176.568387 \nL 103.788603 175.882501 \nL 104.398551 176.602159 \nL 105.008498 178.330908 \nL 105.618445 175.945969 \nL 106.838339 175.32783 \nL 107.448286 174.06 \nL 108.058234 174.744507 \nL 108.668181 173.52 \nL 109.278128 174.193152 \nL 110.498022 177.299999 \nL 111.107969 177.896847 \nL 111.717917 179.361826 \nL 112.327864 179.916922 \nL 114.157705 178.980001 \nL 115.3776 176.753501 \nL 115.987547 178.110005 \nL 116.597494 177.833653 \nL 117.207441 179.146053 \nL 117.817388 179.646208 \nL 118.427335 179.361826 \nL 119.037283 179.848313 \nL 120.257177 177.798461 \nL 120.867124 175.32783 \nL 122.087018 176.334892 \nL 122.696966 176.106314 \nL 123.91686 178.469078 \nL 124.526807 178.919999 \nL 125.746701 175.712403 \nL 126.356649 176.850893 \nL 126.966596 174.631764 \nL 128.18649 175.555384 \nL 128.796437 175.356006 \nL 129.406384 176.444157 \nL 133.066067 175.275007 \nL 133.676015 175.694336 \nL 134.895909 175.32783 \nL 135.505856 176.322421 \nL 136.72575 175.954577 \nL 137.335698 176.347058 \nL 137.945645 177.299999 \nL 138.555592 177.112564 \nL 139.165539 176.370499 \nL 139.775486 176.746829 \nL 140.385433 176.568387 \nL 142.825222 178.008749 \nL 143.435169 176.772561 \nL 144.045116 177.125542 \nL 145.874958 176.617895 \nL 147.094852 177.299999 \nL 147.704799 176.132654 \nL 148.314747 175.478979 \nL 148.924694 175.32783 \nL 149.534641 174.199864 \nL 150.144588 174.06 \nL 150.754535 173.439579 \nL 151.364482 173.786203 \nL 152.584377 173.52 \nL 153.194324 173.858898 \nL 153.804271 173.727124 \nL 154.414218 174.522864 \nL 155.634113 173.34242 \nL 156.854007 173.995629 \nL 158.073901 173.742353 \nL 158.683848 174.06 \nL 159.293796 173.934583 \nL 159.903743 173.37462 \nL 160.51369 173.688536 \nL 161.123637 173.567855 \nL 161.733584 173.87661 \nL 162.953479 172.792179 \nL 163.563426 172.680004 \nL 164.173373 172.151786 \nL 164.78332 170.80025 \nL 166.003214 169.785543 \nL 166.613162 170.102156 \nL 167.223109 170.010005 \nL 168.443003 170.629412 \nL 169.05295 169.74 \nL 169.662897 169.652097 \nL 170.882792 170.261385 \nL 171.492739 170.949604 \nL 172.102686 171.243414 \nL 172.712633 171.91831 \nL 173.932528 172.485259 \nL 174.542475 173.142007 \nL 175.152422 173.039676 \nL 175.762369 173.686154 \nL 177.592211 174.480332 \nL 178.202158 174.373551 \nL 178.812105 174.631764 \nL 179.422052 174.163405 \nL 180.031999 174.420006 \nL 180.641946 174.31579 \nL 181.251894 174.568904 \nL 181.861841 173.756253 \nL 182.471788 173.657106 \nL 183.081735 173.208253 \nL 185.521524 172.832734 \nL 186.131471 173.083121 \nL 187.351365 174.253437 \nL 188.57126 172.719312 \nL 189.181207 173.297647 \nL 189.791154 172.874638 \nL 191.620995 172.611345 \nL 192.230943 173.176367 \nL 192.84089 173.088008 \nL 193.450837 172.355544 \nL 196.500573 173.52 \nL 197.11052 173.119357 \nL 198.330414 172.950415 \nL 199.550309 173.400271 \nL 200.160256 173.009189 \nL 200.770203 172.926731 \nL 201.38015 173.452506 \nL 201.990097 173.671199 \nL 202.600044 173.586905 \nL 203.819939 174.017366 \nL 204.429886 173.635551 \nL 205.64978 173.470908 \nL 206.259727 173.976213 \nL 207.479622 174.392307 \nL 208.089569 174.887241 \nL 208.699516 174.801355 \nL 209.309463 175.003299 \nL 209.91941 174.345882 \nL 211.139305 173.614503 \nL 212.359199 173.457525 \nL 212.969146 173.660006 \nL 213.579093 173.581968 \nL 214.189041 173.782289 \nL 214.798988 173.427808 \nL 215.408935 173.627126 \nL 216.018882 173.550487 \nL 216.628829 174.020966 \nL 217.238776 173.671199 \nL 219.068618 173.445297 \nL 219.678565 173.639059 \nL 220.288512 173.297647 \nL 220.898459 173.224688 \nL 222.728301 173.797305 \nL 223.338248 173.723545 \nL 223.948195 173.389656 \nL 224.558142 173.57771 \nL 225.16809 173.505633 \nL 225.778037 173.691821 \nL 226.387984 173.363092 \nL 226.997931 173.548429 \nL 227.607878 173.477529 \nL 228.217825 173.153291 \nL 229.43772 172.008008 \nL 230.047667 171.94384 \nL 230.657614 171.630005 \nL 231.267561 171.567692 \nL 231.877508 171.754164 \nL 233.097403 171.630005 \nL 233.70735 171.322963 \nL 234.317297 171.262881 \nL 234.927244 171.447102 \nL 235.537191 171.873 \nL 236.147139 171.569466 \nL 236.757086 171.750646 \nL 237.367033 172.170958 \nL 238.586927 172.525267 \nL 239.806822 172.400489 \nL 240.416769 172.575007 \nL 241.636663 172.451173 \nL 242.856557 172.795069 \nL 243.466505 172.500822 \nL 244.686399 172.379593 \nL 245.296346 172.549458 \nL 245.906293 172.260007 \nL 246.51624 172.429131 \nL 247.736135 172.310406 \nL 248.346082 172.477675 \nL 248.956029 172.193243 \nL 250.175923 172.077631 \nL 250.785871 172.24348 \nL 251.395818 172.630588 \nL 252.005765 172.571925 \nL 252.615712 172.292734 \nL 254.445554 172.122251 \nL 255.055501 171.848079 \nL 255.665448 171.358276 \nL 256.275395 171.521662 \nL 258.105237 171.361703 \nL 258.715184 171.523021 \nL 259.935078 171.417375 \nL 260.545025 171.78897 \nL 261.154972 171.313047 \nL 261.76492 171.472013 \nL 262.374867 171.839999 \nL 262.984814 171.577669 \nL 264.204708 171.890094 \nL 264.814655 172.252321 \nL 266.03455 172.557822 \nL 266.644497 172.503631 \nL 267.254444 172.859643 \nL 270.914127 173.743671 \nL 272.743969 173.575428 \nL 274.57381 174.003486 \nL 275.183757 174.341745 \nL 275.793704 174.481386 \nL 276.403652 174.81631 \nL 277.013599 174.758276 \nL 278.233493 174.2544 \nL 278.84344 174.392307 \nL 279.453387 174.142843 \nL 281.283229 174.552844 \nL 281.893176 174.496858 \nL 282.503123 174.631764 \nL 283.11307 174.575869 \nL 283.723018 174.709812 \nL 284.332965 174.653999 \nL 284.942912 174.786979 \nL 286.162806 174.675868 \nL 286.772753 174.807692 \nL 287.382701 174.565974 \nL 287.992648 174.13967 \nL 289.212542 173.663808 \nL 289.822489 173.796585 \nL 291.042384 172.959621 \nL 291.652331 172.910326 \nL 292.262278 173.226118 \nL 292.872225 173.358287 \nL 293.482172 173.308323 \nL 294.092119 172.89671 \nL 296.531908 173.420528 \nL 297.141855 173.192599 \nL 297.751802 173.500209 \nL 298.36175 173.450914 \nL 298.971697 173.756253 \nL 299.581644 173.176367 \nL 300.191591 173.128289 \nL 300.801538 172.904659 \nL 301.411485 172.857524 \nL 302.021433 173.16047 \nL 302.63138 173.287386 \nL 303.241327 173.239643 \nL 306.291063 173.863643 \nL 306.90101 173.815169 \nL 309.950746 174.422693 \nL 310.560693 174.373551 \nL 311.17064 174.156237 \nL 313.000482 174.513759 \nL 313.610429 174.465002 \nL 314.220376 174.250122 \nL 315.44027 174.485695 \nL 316.050217 173.942045 \nL 316.660165 174.06 \nL 317.880059 173.63841 \nL 318.490006 173.592695 \nL 319.099953 173.384029 \nL 319.7099 173.501912 \nL 320.319848 173.456856 \nL 320.929795 173.573999 \nL 321.539742 173.367371 \nL 322.149689 173.00048 \nL 323.369583 173.234716 \nL 323.979531 173.030825 \nL 325.199425 172.944595 \nL 326.419319 172.541965 \nL 328.249161 172.889998 \nL 329.469055 172.805806 \nL 330.688949 173.346607 \nL 331.298897 173.459451 \nL 332.518791 173.373627 \nL 333.128738 173.48564 \nL 333.738685 173.442864 \nL 334.348632 173.246335 \nL 335.568527 173.775405 \nL 336.178474 173.885258 \nL 337.398368 173.799059 \nL 338.008315 173.908131 \nL 338.618263 173.562096 \nL 339.22821 173.52 \nL 339.838157 173.628961 \nL 341.667998 174.402558 \nL 342.277946 174.209546 \nL 342.887893 174.166578 \nL 343.49784 174.421578 \nL 344.107787 174.526899 \nL 344.717734 174.187059 \nL 345.327681 174.292441 \nL 345.937629 174.249767 \nL 346.547576 174.06 \nL 347.157523 174.164966 \nL 347.76747 174.12285 \nL 348.377417 174.373551 \nL 348.987365 174.331161 \nL 349.597312 174.434647 \nL 350.817206 174.35015 \nL 352.0371 174.555288 \nL 352.647048 174.801355 \nL 353.256995 174.758691 \nL 355.696783 175.160379 \nL 356.916678 175.074615 \nL 357.526625 174.890252 \nL 358.746519 175.088464 \nL 359.356466 175.046095 \nL 359.966414 175.144461 \nL 360.576361 175.102152 \nL 361.186308 174.919999 \nL 361.796255 174.878319 \nL 362.406202 174.976228 \nL 363.626097 175.448572 \nL 364.236044 175.267576 \nL 364.845991 175.502196 \nL 365.455938 175.321828 \nL 366.065885 175.555384 \nL 366.675832 175.513095 \nL 367.28578 175.608146 \nL 367.895727 175.565918 \nL 368.505674 175.797112 \nL 369.725568 175.712403 \nL 369.725568 175.712403 \n\" clip-path=\"url(#p8984605c8a)\" style=\"fill: none; stroke: #8c564b; stroke-width: 1.5; stroke-linecap: square\"/>\n   </g>\n   <g id=\"line2d_20\">\n    <path d=\"M 50.14375 177.073203 \nL 384.94375 177.073203 \n\" clip-path=\"url(#p8984605c8a)\" style=\"fill: none; stroke-dasharray: 5.55,2.4; stroke-dashoffset: 0; stroke: #000000; stroke-width: 1.5\"/>\n   </g>\n   <g id=\"patch_3\">\n    <path d=\"M 50.14375 256.68 \nL 50.14375 7.2 \n\" style=\"fill: none; stroke: #000000; stroke-width: 0.8; stroke-linejoin: miter; stroke-linecap: square\"/>\n   </g>\n   <g id=\"patch_4\">\n    <path d=\"M 384.94375 256.68 \nL 384.94375 7.2 \n\" style=\"fill: none; stroke: #000000; stroke-width: 0.8; stroke-linejoin: miter; stroke-linecap: square\"/>\n   </g>\n   <g id=\"patch_5\">\n    <path d=\"M 50.14375 256.68 \nL 384.94375 256.68 \n\" style=\"fill: none; stroke: #000000; stroke-width: 0.8; stroke-linejoin: miter; stroke-linecap: square\"/>\n   </g>\n   <g id=\"patch_6\">\n    <path d=\"M 50.14375 7.2 \nL 384.94375 7.2 \n\" style=\"fill: none; stroke: #000000; stroke-width: 0.8; stroke-linejoin: miter; stroke-linecap: square\"/>\n   </g>\n   <g id=\"legend_1\">\n    <g id=\"patch_7\">\n     <path d=\"M 302.089063 103.26875 \nL 377.94375 103.26875 \nQ 379.94375 103.26875 379.94375 101.26875 \nL 379.94375 14.2 \nQ 379.94375 12.2 377.94375 12.2 \nL 302.089063 12.2 \nQ 300.089063 12.2 300.089063 14.2 \nL 300.089063 101.26875 \nQ 300.089063 103.26875 302.089063 103.26875 \nz\n\" style=\"fill: #ffffff; opacity: 0.8; stroke: #cccccc; stroke-linejoin: miter\"/>\n    </g>\n    <g id=\"line2d_21\">\n     <path d=\"M 304.089063 20.298437 \nL 314.089063 20.298437 \nL 324.089063 20.298437 \n\" style=\"fill: none; stroke: #1f77b4; stroke-width: 1.5; stroke-linecap: square\"/>\n    </g>\n    <g id=\"text_16\">\n     <!-- P(die=1) -->\n     <g transform=\"translate(332.089063 23.798437) scale(0.1 -0.1)\">\n      <defs>\n       <path id=\"DejaVuSans-50\" d=\"M 1259 4147 \nL 1259 2394 \nL 2053 2394 \nQ 2494 2394 2734 2622 \nQ 2975 2850 2975 3272 \nQ 2975 3691 2734 3919 \nQ 2494 4147 2053 4147 \nL 1259 4147 \nz\nM 628 4666 \nL 2053 4666 \nQ 2838 4666 3239 4311 \nQ 3641 3956 3641 3272 \nQ 3641 2581 3239 2228 \nQ 2838 1875 2053 1875 \nL 1259 1875 \nL 1259 0 \nL 628 0 \nL 628 4666 \nz\n\" transform=\"scale(0.015625)\"/>\n       <path id=\"DejaVuSans-28\" d=\"M 1984 4856 \nQ 1566 4138 1362 3434 \nQ 1159 2731 1159 2009 \nQ 1159 1288 1364 580 \nQ 1569 -128 1984 -844 \nL 1484 -844 \nQ 1016 -109 783 600 \nQ 550 1309 550 2009 \nQ 550 2706 781 3412 \nQ 1013 4119 1484 4856 \nL 1984 4856 \nz\n\" transform=\"scale(0.015625)\"/>\n       <path id=\"DejaVuSans-3d\" d=\"M 678 2906 \nL 4684 2906 \nL 4684 2381 \nL 678 2381 \nL 678 2906 \nz\nM 678 1631 \nL 4684 1631 \nL 4684 1100 \nL 678 1100 \nL 678 1631 \nz\n\" transform=\"scale(0.015625)\"/>\n       <path id=\"DejaVuSans-29\" d=\"M 513 4856 \nL 1013 4856 \nQ 1481 4119 1714 3412 \nQ 1947 2706 1947 2009 \nQ 1947 1309 1714 600 \nQ 1481 -109 1013 -844 \nL 513 -844 \nQ 928 -128 1133 580 \nQ 1338 1288 1338 2009 \nQ 1338 2731 1133 3434 \nQ 928 4138 513 4856 \nz\n\" transform=\"scale(0.015625)\"/>\n      </defs>\n      <use xlink:href=\"#DejaVuSans-50\"/>\n      <use xlink:href=\"#DejaVuSans-28\" transform=\"translate(60.302734 0)\"/>\n      <use xlink:href=\"#DejaVuSans-64\" transform=\"translate(99.316406 0)\"/>\n      <use xlink:href=\"#DejaVuSans-69\" transform=\"translate(162.792969 0)\"/>\n      <use xlink:href=\"#DejaVuSans-65\" transform=\"translate(190.576172 0)\"/>\n      <use xlink:href=\"#DejaVuSans-3d\" transform=\"translate(252.099609 0)\"/>\n      <use xlink:href=\"#DejaVuSans-31\" transform=\"translate(335.888672 0)\"/>\n      <use xlink:href=\"#DejaVuSans-29\" transform=\"translate(399.511719 0)\"/>\n     </g>\n    </g>\n    <g id=\"line2d_22\">\n     <path d=\"M 304.089063 34.976562 \nL 314.089063 34.976562 \nL 324.089063 34.976562 \n\" style=\"fill: none; stroke: #ff7f0e; stroke-width: 1.5; stroke-linecap: square\"/>\n    </g>\n    <g id=\"text_17\">\n     <!-- P(die=2) -->\n     <g transform=\"translate(332.089063 38.476562) scale(0.1 -0.1)\">\n      <use xlink:href=\"#DejaVuSans-50\"/>\n      <use xlink:href=\"#DejaVuSans-28\" transform=\"translate(60.302734 0)\"/>\n      <use xlink:href=\"#DejaVuSans-64\" transform=\"translate(99.316406 0)\"/>\n      <use xlink:href=\"#DejaVuSans-69\" transform=\"translate(162.792969 0)\"/>\n      <use xlink:href=\"#DejaVuSans-65\" transform=\"translate(190.576172 0)\"/>\n      <use xlink:href=\"#DejaVuSans-3d\" transform=\"translate(252.099609 0)\"/>\n      <use xlink:href=\"#DejaVuSans-32\" transform=\"translate(335.888672 0)\"/>\n      <use xlink:href=\"#DejaVuSans-29\" transform=\"translate(399.511719 0)\"/>\n     </g>\n    </g>\n    <g id=\"line2d_23\">\n     <path d=\"M 304.089063 49.654687 \nL 314.089063 49.654687 \nL 324.089063 49.654687 \n\" style=\"fill: none; stroke: #2ca02c; stroke-width: 1.5; stroke-linecap: square\"/>\n    </g>\n    <g id=\"text_18\">\n     <!-- P(die=3) -->\n     <g transform=\"translate(332.089063 53.154687) scale(0.1 -0.1)\">\n      <use xlink:href=\"#DejaVuSans-50\"/>\n      <use xlink:href=\"#DejaVuSans-28\" transform=\"translate(60.302734 0)\"/>\n      <use xlink:href=\"#DejaVuSans-64\" transform=\"translate(99.316406 0)\"/>\n      <use xlink:href=\"#DejaVuSans-69\" transform=\"translate(162.792969 0)\"/>\n      <use xlink:href=\"#DejaVuSans-65\" transform=\"translate(190.576172 0)\"/>\n      <use xlink:href=\"#DejaVuSans-3d\" transform=\"translate(252.099609 0)\"/>\n      <use xlink:href=\"#DejaVuSans-33\" transform=\"translate(335.888672 0)\"/>\n      <use xlink:href=\"#DejaVuSans-29\" transform=\"translate(399.511719 0)\"/>\n     </g>\n    </g>\n    <g id=\"line2d_24\">\n     <path d=\"M 304.089063 64.332812 \nL 314.089063 64.332812 \nL 324.089063 64.332812 \n\" style=\"fill: none; stroke: #d62728; stroke-width: 1.5; stroke-linecap: square\"/>\n    </g>\n    <g id=\"text_19\">\n     <!-- P(die=4) -->\n     <g transform=\"translate(332.089063 67.832812) scale(0.1 -0.1)\">\n      <use xlink:href=\"#DejaVuSans-50\"/>\n      <use xlink:href=\"#DejaVuSans-28\" transform=\"translate(60.302734 0)\"/>\n      <use xlink:href=\"#DejaVuSans-64\" transform=\"translate(99.316406 0)\"/>\n      <use xlink:href=\"#DejaVuSans-69\" transform=\"translate(162.792969 0)\"/>\n      <use xlink:href=\"#DejaVuSans-65\" transform=\"translate(190.576172 0)\"/>\n      <use xlink:href=\"#DejaVuSans-3d\" transform=\"translate(252.099609 0)\"/>\n      <use xlink:href=\"#DejaVuSans-34\" transform=\"translate(335.888672 0)\"/>\n      <use xlink:href=\"#DejaVuSans-29\" transform=\"translate(399.511719 0)\"/>\n     </g>\n    </g>\n    <g id=\"line2d_25\">\n     <path d=\"M 304.089063 79.010937 \nL 314.089063 79.010937 \nL 324.089063 79.010937 \n\" style=\"fill: none; stroke: #9467bd; stroke-width: 1.5; stroke-linecap: square\"/>\n    </g>\n    <g id=\"text_20\">\n     <!-- P(die=5) -->\n     <g transform=\"translate(332.089063 82.510937) scale(0.1 -0.1)\">\n      <use xlink:href=\"#DejaVuSans-50\"/>\n      <use xlink:href=\"#DejaVuSans-28\" transform=\"translate(60.302734 0)\"/>\n      <use xlink:href=\"#DejaVuSans-64\" transform=\"translate(99.316406 0)\"/>\n      <use xlink:href=\"#DejaVuSans-69\" transform=\"translate(162.792969 0)\"/>\n      <use xlink:href=\"#DejaVuSans-65\" transform=\"translate(190.576172 0)\"/>\n      <use xlink:href=\"#DejaVuSans-3d\" transform=\"translate(252.099609 0)\"/>\n      <use xlink:href=\"#DejaVuSans-35\" transform=\"translate(335.888672 0)\"/>\n      <use xlink:href=\"#DejaVuSans-29\" transform=\"translate(399.511719 0)\"/>\n     </g>\n    </g>\n    <g id=\"line2d_26\">\n     <path d=\"M 304.089063 93.689062 \nL 314.089063 93.689062 \nL 324.089063 93.689062 \n\" style=\"fill: none; stroke: #8c564b; stroke-width: 1.5; stroke-linecap: square\"/>\n    </g>\n    <g id=\"text_21\">\n     <!-- P(die=6) -->\n     <g transform=\"translate(332.089063 97.189062) scale(0.1 -0.1)\">\n      <defs>\n       <path id=\"DejaVuSans-36\" d=\"M 2113 2584 \nQ 1688 2584 1439 2293 \nQ 1191 2003 1191 1497 \nQ 1191 994 1439 701 \nQ 1688 409 2113 409 \nQ 2538 409 2786 701 \nQ 3034 994 3034 1497 \nQ 3034 2003 2786 2293 \nQ 2538 2584 2113 2584 \nz\nM 3366 4563 \nL 3366 3988 \nQ 3128 4100 2886 4159 \nQ 2644 4219 2406 4219 \nQ 1781 4219 1451 3797 \nQ 1122 3375 1075 2522 \nQ 1259 2794 1537 2939 \nQ 1816 3084 2150 3084 \nQ 2853 3084 3261 2657 \nQ 3669 2231 3669 1497 \nQ 3669 778 3244 343 \nQ 2819 -91 2113 -91 \nQ 1303 -91 875 529 \nQ 447 1150 447 2328 \nQ 447 3434 972 4092 \nQ 1497 4750 2381 4750 \nQ 2619 4750 2861 4703 \nQ 3103 4656 3366 4563 \nz\n\" transform=\"scale(0.015625)\"/>\n      </defs>\n      <use xlink:href=\"#DejaVuSans-50\"/>\n      <use xlink:href=\"#DejaVuSans-28\" transform=\"translate(60.302734 0)\"/>\n      <use xlink:href=\"#DejaVuSans-64\" transform=\"translate(99.316406 0)\"/>\n      <use xlink:href=\"#DejaVuSans-69\" transform=\"translate(162.792969 0)\"/>\n      <use xlink:href=\"#DejaVuSans-65\" transform=\"translate(190.576172 0)\"/>\n      <use xlink:href=\"#DejaVuSans-3d\" transform=\"translate(252.099609 0)\"/>\n      <use xlink:href=\"#DejaVuSans-36\" transform=\"translate(335.888672 0)\"/>\n      <use xlink:href=\"#DejaVuSans-29\" transform=\"translate(399.511719 0)\"/>\n     </g>\n    </g>\n   </g>\n  </g>\n </g>\n <defs>\n  <clipPath id=\"p8984605c8a\">\n   <rect x=\"50.14375\" y=\"7.2\" width=\"334.8\" height=\"249.48\"/>\n  </clipPath>\n </defs>\n</svg>\n"
          },
          "metadata": {}
        }
      ],
      "source": [
        "#每轮十次，共五百轮抽样\n",
        "counts = multinomial.Multinomial(10, fair_probs).sample((500,))\n",
        "print(counts)\n",
        "# print(counts.shape)\n",
        "# print(len(counts))\n",
        "#按0轴累加（行）\n",
        "cum_counts = counts.cumsum(dim=0)\n",
        "# print(cum_counts)\n",
        "estimates = cum_counts / cum_counts.sum(dim=1, keepdims=True)\n",
        "# print(estimates)\n",
        "set_figsize((6, 4.5))\n",
        "for i in range(6):\n",
        "    # print(len(estimates[:, i].numpy()))\n",
        "    plt.plot(estimates[:, i].numpy(),\n",
        "                 label=(\"P(die=\" + str(i + 1) + \")\"))\n",
        "plt.axhline(y=0.167, color='black', linestyle='dashed')\n",
        "plt.gca().set_xlabel('Groups of experiments')\n",
        "plt.gca().set_ylabel('Estimated probability')\n",
        "plt.legend();"
      ]
    },
    {
      "cell_type": "markdown",
      "id": "d97d4cca",
      "metadata": {
        "origin_pos": 25,
        "id": "d97d4cca"
      },
      "source": [
        "每条实线对应于骰子的6个值中的一个，并给出骰子在每组实验后出现值的估计概率。\n",
        "当我们通过更多的实验获得更多的数据时，这$6$条实体曲线向真实概率收敛。\n",
        "\n",
        "### 概率论公理\n",
        "\n",
        "在处理骰子掷出时，我们将集合$\\mathcal{S} = \\{1, 2, 3, 4, 5, 6\\}$\n",
        "称为*样本空间*（sample space）或*结果空间*（outcome space），\n",
        "其中每个元素都是*结果*（outcome）。\n",
        "*事件*（event）是一组给定样本空间的随机结果。\n",
        "例如，“看到$5$”（$\\{5\\}$）和“看到奇数”（$\\{1, 3, 5\\}$）都是掷出骰子的有效事件。\n",
        "注意，如果一个随机实验的结果在$\\mathcal{A}$中，则事件$\\mathcal{A}$已经发生。\n",
        "也就是说，如果投掷出$3$点，因为$3 \\in \\{1, 3, 5\\}$，我们可以说，“看到奇数”的事件发生了。\n",
        "\n",
        "*概率*（probability）可以被认为是将集合映射到真实值的函数。\n",
        "在给定的样本空间$\\mathcal{S}$中，事件$\\mathcal{A}$的概率，\n",
        "表示为$P(\\mathcal{A})$，满足以下属性：\n",
        "\n",
        "* 对于任意事件$\\mathcal{A}$，其概率从不会是负数，即$P(\\mathcal{A}) \\geq 0$；\n",
        "* 整个样本空间的概率为$1$，即$P(\\mathcal{S}) = 1$；\n",
        "* 对于*互斥*（mutually exclusive）事件（对于所有$i \\neq j$都有$\\mathcal{A}_i \\cap \\mathcal{A}_j = \\emptyset$）的任意一个可数序列$\\mathcal{A}_1, \\mathcal{A}_2, \\ldots$，序列中任意一个事件发生的概率等于它们各自发生的概率之和，即$P(\\bigcup_{i=1}^{\\infty} \\mathcal{A}_i) = \\sum_{i=1}^{\\infty} P(\\mathcal{A}_i)$。\n",
        "\n",
        "以上也是概率论的公理，由科尔莫戈罗夫于1933年提出。\n",
        "有了这个公理系统，我们可以避免任何关于随机性的哲学争论；\n",
        "相反，我们可以用数学语言严格地推理。\n",
        "例如，假设事件$\\mathcal{A}_1$为整个样本空间，\n",
        "且当所有$i > 1$时的$\\mathcal{A}_i = \\emptyset$，\n",
        "那么我们可以证明$P(\\emptyset) = 0$，即不可能发生事件的概率是$0$。\n",
        "\n",
        "### 随机变量\n",
        "\n",
        "在我们掷骰子的随机实验中，我们引入了*随机变量*（random variable）的概念。\n",
        "随机变量几乎可以是任何数量，并且它可以在随机实验的一组可能性中取一个值。\n",
        "考虑一个随机变量$X$，其值在掷骰子的样本空间$\\mathcal{S}=\\{1,2,3,4,5,6\\}$中。\n",
        "我们可以将事件“看到一个$5$”表示为$\\{X=5\\}$或$X=5$，\n",
        "其概率表示为$P(\\{X=5\\})$或$P(X=5)$。\n",
        "通过$P(X=a)$，我们区分了随机变量$X$和$X$可以采取的值（例如$a$）。\n",
        "然而，这可能会导致繁琐的表示。\n",
        "为了简化符号，一方面，我们可以将$P(X)$表示为随机变量$X$上的*分布*（distribution）：\n",
        "分布告诉我们$X$获得某一值的概率。\n",
        "另一方面，我们可以简单用$P(a)$表示随机变量取值$a$的概率。\n",
        "由于概率论中的事件是来自样本空间的一组结果，因此我们可以为随机变量指定值的可取范围。\n",
        "例如，$P(1 \\leq X \\leq 3)$表示事件$\\{1 \\leq X \\leq 3\\}$，\n",
        "即$\\{X = 1, 2, \\text{or}, 3\\}$的概率。\n",
        "等价地，$P(1 \\leq X \\leq 3)$表示随机变量$X$从$\\{1, 2, 3\\}$中取值的概率。\n",
        "\n",
        "请注意，*离散*（discrete）随机变量（如骰子的每一面）\n",
        "和*连续*（continuous）随机变量（如人的体重和身高）之间存在微妙的区别。\n",
        "现实生活中，测量两个人是否具有完全相同的身高没有太大意义。\n",
        "如果我们进行足够精确的测量，最终会发现这个星球上没有两个人具有完全相同的身高。\n",
        "在这种情况下，询问某人的身高是否落入给定的区间，比如是否在1.79米和1.81米之间更有意义。\n",
        "在这些情况下，我们将这个看到某个数值的可能性量化为*密度*（density）。\n",
        "高度恰好为1.80米的概率为0，但密度不是0。\n",
        "在任何两个不同高度之间的区间，我们都有非零的概率。\n",
        "在本节的其余部分中，我们将考虑离散空间中的概率。\n",
        "连续随机变量的概率可以参考深度学习数学附录中[随机变量](https://d2l.ai/chapter_appendix-mathematics-for-deep-learning/random-variables.html)\n",
        "的一节。\n",
        "\n",
        "## 处理多个随机变量\n",
        "\n",
        "很多时候，我们会考虑多个随机变量。\n",
        "比如，我们可能需要对疾病和症状之间的关系进行建模。\n",
        "给定一个疾病和一个症状，比如“流感”和“咳嗽”，以某个概率存在或不存在于某个患者身上。\n",
        "我们需要估计这些概率以及概率之间的关系，以便我们可以运用我们的推断来实现更好的医疗服务。\n",
        "\n",
        "再举一个更复杂的例子：图像包含数百万像素，因此有数百万个随机变量。\n",
        "在许多情况下，图像会附带一个*标签*（label），标识图像中的对象。\n",
        "我们也可以将标签视为一个随机变量。\n",
        "我们甚至可以将所有元数据视为随机变量，例如位置、时间、光圈、焦距、ISO、对焦距离和相机类型。\n",
        "所有这些都是联合发生的随机变量。\n",
        "当我们处理多个随机变量时，会有若干个变量是我们感兴趣的。\n",
        "\n",
        "### 联合概率\n",
        "\n",
        "第一个被称为*联合概率*（joint probability）$P(A=a,B=b)$。\n",
        "给定任意值$a$和$b$，联合概率可以回答：$A=a$和$B=b$同时满足的概率是多少？\n",
        "请注意，对于任何$a$和$b$的取值，$P(A = a, B=b) \\leq P(A=a)$。\n",
        "这点是确定的，因为要同时发生$A=a$和$B=b$，$A=a$就必须发生，$B=b$也必须发生（反之亦然）。因此，$A=a$和$B=b$同时发生的可能性不大于$A=a$或是$B=b$单独发生的可能性。\n",
        "\n",
        "### 条件概率\n",
        "\n",
        "联合概率的不等式带给我们一个有趣的比率：\n",
        "$0 \\leq \\frac{P(A=a, B=b)}{P(A=a)} \\leq 1$。\n",
        "我们称这个比率为*条件概率*（conditional probability），\n",
        "并用$P(B=b \\mid A=a)$表示它：它是$B=b$的概率，前提是$A=a$已发生。\n",
        "\n",
        "### 贝叶斯定理\n",
        "\n",
        "使用条件概率的定义，我们可以得出统计学中最有用的方程之一：\n",
        "*Bayes定理*（Bayes' theorem）。\n",
        "根据*乘法法则*（multiplication rule ）可得到$P(A, B) = P(B \\mid A) P(A)$。\n",
        "根据对称性，可得到$P(A, B) = P(A \\mid B) P(B)$。\n",
        "假设$P(B)>0$，求解其中一个条件变量，我们得到\n",
        "\n",
        "$$P(A \\mid B) = \\frac{P(B \\mid A) P(A)}{P(B)}.$$\n",
        "\n",
        "请注意，这里我们使用紧凑的表示法：\n",
        "其中$P(A, B)$是一个*联合分布*（joint distribution），\n",
        "$P(A \\mid B)$是一个*条件分布*（conditional distribution）。\n",
        "这种分布可以在给定值$A = a, B=b$上进行求值。\n",
        "\n",
        "### 边际化\n",
        "\n",
        "为了能进行事件（一组给定样本空间的随机结果。）概率求和，我们需要*求和法则*（sum rule），\n",
        "即$B$的概率相当于计算$A$的所有可能选择，并将所有选择的联合概率聚合在一起：\n",
        "\n",
        "$$P(B) = \\sum_{A} P(A, B),$$\n",
        "\n",
        "这也称为*边际化*（marginalization）。\n",
        "边际化结果的概率或分布称为*边际概率*（marginal probability）\n",
        "或*边际分布*（marginal distribution）。\n",
        "\n",
        "### 独立性\n",
        "\n",
        "另一个有用属性是*依赖*（dependence）与*独立*（independence）。\n",
        "如果两个随机变量$A$和$B$是独立的，意味着事件$A$的发生跟$B$事件的发生无关。\n",
        "在这种情况下，统计学家通常将这一点表述为$A \\perp  B$。\n",
        "根据贝叶斯定理，马上就能同样得到$P(A \\mid B) = P(A)$。\n",
        "在所有其他情况下，我们称$A$和$B$依赖。\n",
        "比如，两次连续抛出一个骰子的事件是相互独立的。\n",
        "相比之下，灯开关的位置和房间的亮度并不是（因为可能存在灯泡坏掉、电源故障，或者开关故障）。\n",
        "\n",
        "由于$P(A \\mid B) = \\frac{P(A, B)}{P(B)} = P(A)$等价于$P(A, B) = P(A)P(B)$，\n",
        "因此两个随机变量是独立的，当且仅当两个随机变量的联合分布是其各自分布的乘积。\n",
        "同样地，给定另一个随机变量$C$时，两个随机变量$A$和$B$是*条件独立的*（conditionally independent），\n",
        "当且仅当$P(A, B \\mid C) = P(A \\mid C)P(B \\mid C)$。\n",
        "这个情况表示为$A \\perp B \\mid C$。\n",
        "\n",
        "### 应用\n",
        ":label:`subsec_probability_hiv_app`\n",
        "\n",
        "我们实战演练一下！\n",
        "假设一个医生对患者进行艾滋病病毒（HIV）测试。\n",
        "这个测试是相当准确的，如果患者健康但测试显示他患病，这个概率只有1%；\n",
        "如果患者真正感染HIV，它永远不会检测不出。\n",
        "我们使用$D_1$来表示诊断结果（如果阳性，则为$1$，如果阴性，则为$0$），\n",
        "$H$来表示感染艾滋病病毒的状态（如果阳性，则为$1$，如果阴性，则为$0$）。\n",
        "在 :numref:`conditional_prob_D1`中列出了这样的条件概率。\n",
        "\n",
        ":条件概率为$P(D_1 \\mid H)$\n",
        "\n",
        "| 条件概率 | $H=1$ | $H=0$ |\n",
        "|---|---|---|\n",
        "|$P(D_1 = 1 \\mid H)$|            1 |         0.01 |\n",
        "|$P(D_1 = 0 \\mid H)$|            0 |         0.99 |\n",
        ":label:`conditional_prob_D1`\n",
        "\n",
        "请注意，每列的加和都是1（但每行的加和不是），因为条件概率需要总和为1，就像概率一样。\n",
        "让我们计算如果测试出来呈阳性，患者感染HIV的概率，即$P(H = 1 \\mid D_1 = 1)$。\n",
        "显然，这将取决于疾病有多常见，因为它会影响错误警报的数量。\n",
        "假设人口总体是相当健康的，例如，$P(H=1) = 0.0015$。\n",
        "为了应用贝叶斯定理，我们需要运用边际化和乘法法则来确定\n",
        "\n",
        "$$\\begin{aligned}\n",
        "&P(D_1 = 1) \\\\\n",
        "=& P(D_1=1, H=0) + P(D_1=1, H=1)  \\\\\n",
        "=& P(D_1=1 \\mid H=0) P(H=0) + P(D_1=1 \\mid H=1) P(H=1) \\\\\n",
        "=& 0.011485.\n",
        "\\end{aligned}\n",
        "$$\n",
        "因此，我们得到\n",
        "\n",
        "$$\\begin{aligned}\n",
        "&P(H = 1 \\mid D_1 = 1)\\\\ =& \\frac{P(D_1=1 \\mid H=1) P(H=1)}{P(D_1=1)} \\\\ =& 0.1306 \\end{aligned}.$$\n",
        "\n",
        "换句话说，尽管使用了非常准确的测试，患者实际上患有艾滋病的几率只有13.06%。\n",
        "正如我们所看到的，概率可能是违反直觉的。\n",
        "\n",
        "患者在收到这样可怕的消息后应该怎么办？\n",
        "很可能，患者会要求医生进行另一次测试来确定病情。\n",
        "第二个测试具有不同的特性，它不如第一个测试那么精确，\n",
        "如 :numref:`conditional_prob_D2`所示。\n",
        "\n",
        ":条件概率为$P(D_2 \\mid H)$\n",
        "\n",
        "| 条件概率 | $H=1$ | $H=0$ |\n",
        "|---|---|---|\n",
        "|$P(D_2 = 1 \\mid H)$|            0.98 |         0.03 |\n",
        "|$P(D_2 = 0 \\mid H)$|            0.02 |         0.97 |\n",
        ":label:`conditional_prob_D2`\n",
        "\n",
        "不幸的是，第二次测试也显示阳性。让我们通过假设条件独立性来计算出应用Bayes定理的必要概率：\n",
        "\n",
        "$$\\begin{aligned}\n",
        "&P(D_1 = 1, D_2 = 1 \\mid H = 0) \\\\\n",
        "=& P(D_1 = 1 \\mid H = 0) P(D_2 = 1 \\mid H = 0)  \\\\\n",
        "=& 0.0003,\n",
        "\\end{aligned}\n",
        "$$\n",
        "\n",
        "$$\\begin{aligned}\n",
        "&P(D_1 = 1, D_2 = 1 \\mid H = 1) \\\\\n",
        "=& P(D_1 = 1 \\mid H = 1) P(D_2 = 1 \\mid H = 1)  \\\\\n",
        "=& 0.98.\n",
        "\\end{aligned}\n",
        "$$\n",
        "现在我们可以应用边际化和乘法规则：\n",
        "\n",
        "$$\\begin{aligned}\n",
        "&P(D_1 = 1, D_2 = 1) \\\\\n",
        "=& P(D_1 = 1, D_2 = 1, H = 0) + P(D_1 = 1, D_2 = 1, H = 1)  \\\\\n",
        "=& P(D_1 = 1, D_2 = 1 \\mid H = 0)P(H=0) + P(D_1 = 1, D_2 = 1 \\mid H = 1)P(H=1)\\\\\n",
        "=& 0.00176955.\n",
        "\\end{aligned}\n",
        "$$\n",
        "\n",
        "最后，鉴于存在两次阳性检测，患者患有艾滋病的概率为\n",
        "\n",
        "$$\\begin{aligned}\n",
        "&P(H = 1 \\mid D_1 = 1, D_2 = 1)\\\\\n",
        "=& \\frac{P(D_1 = 1, D_2 = 1 \\mid H=1) P(H=1)}{P(D_1 = 1, D_2 = 1)} \\\\\n",
        "=& 0.8307.\n",
        "\\end{aligned}\n",
        "$$\n",
        "\n",
        "也就是说，第二次测试使我们能够对患病的情况获得更高的信心。\n",
        "尽管第二次检验比第一次检验的准确性要低得多，但它仍然显著提高我们的预测概率。\n",
        "\n",
        "## 期望和方差\n",
        "\n",
        "为了概括概率分布的关键特征，我们需要一些测量方法。\n",
        "一个随机变量$X$的*期望*（expectation，或平均值（average））表示为\n",
        "\n",
        "$$E[X] = \\sum_{x} x P(X = x).$$\n",
        "\n",
        "当函数$f(x)$的输入是从分布$P$中抽取的随机变量时，$f(x)$的期望值为\n",
        "\n",
        "$$E_{x \\sim P}[f(x)] = \\sum_x f(x) P(x).$$\n",
        "\n",
        "在许多情况下，我们希望衡量随机变量$X$与其期望值的偏置。这可以通过方差来量化\n",
        "\n",
        "$$\\mathrm{Var}[X] = E\\left[(X - E[X])^2\\right] =\n",
        "E[X^2] - E[X]^2.$$\n",
        "\n",
        "方差的平方根被称为*标准差*（standard deviation）。\n",
        "随机变量函数的方差衡量的是：当从该随机变量分布中采样不同值$x$时，\n",
        "函数值偏离该函数的期望的程度：\n",
        "\n",
        "$$\\mathrm{Var}[f(x)] = E\\left[\\left(f(x) - E[f(x)]\\right)^2\\right].$$\n",
        "\n",
        "## 小结\n",
        "\n",
        "* 我们可以从概率分布中采样。\n",
        "* 我们可以使用联合分布、条件分布、Bayes定理、边缘化和独立性假设来分析多个随机变量。\n",
        "* 期望和方差为概率分布的关键特征的概括提供了实用的度量形式。\n",
        "\n",
        "## 练习\n",
        "\n",
        "1. 进行$m=500$组实验，每组抽取$n=10$个样本。改变$m$和$n$，观察和分析实验结果。\n",
        "2. 给定两个概率为$P(\\mathcal{A})$和$P(\\mathcal{B})$的事件，计算$P(\\mathcal{A} \\cup \\mathcal{B})$和$P(\\mathcal{A} \\cap \\mathcal{B})$的上限和下限。（提示：使用[友元图](https://en.wikipedia.org/wiki/Venn_diagram)来展示这些情况。)\n",
        "3. 假设我们有一系列随机变量，例如$A$、$B$和$C$，其中$B$只依赖于$A$，而$C$只依赖于$B$，能简化联合概率$P(A, B, C)$吗？（提示：这是一个[马尔可夫链](https://en.wikipedia.org/wiki/Markov_chain)。)\n",
        "4. 在 :numref:`subsec_probability_hiv_app`中，第一个测试更准确。为什么不运行第一个测试两次，而是同时运行第一个和第二个测试?\n"
      ]
    },
    {
      "cell_type": "markdown",
      "id": "2594045e",
      "metadata": {
        "origin_pos": 27,
        "tab": [
          "pytorch"
        ],
        "id": "2594045e"
      },
      "source": [
        "[Discussions](https://discuss.d2l.ai/t/1762)\n"
      ]
    }
  ],
  "metadata": {
    "kernelspec": {
      "display_name": "Python 3",
      "name": "python3"
    },
    "language_info": {
      "name": "python"
    },
    "required_libs": [],
    "colab": {
      "provenance": []
    }
  },
  "nbformat": 4,
  "nbformat_minor": 5
}